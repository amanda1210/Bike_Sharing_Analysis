{
 "cells": [
  {
   "cell_type": "markdown",
   "metadata": {
    "slideshow": {
     "slide_type": "slide"
    }
   },
   "source": [
    "## Ford GoBike Data Visualization and Analysis\n",
    "\n",
    "### Introduction\n",
    "> This project is analyzing the Ford GoBike system data from 2018-1 to 2018-10. The goal of the project is to explore some insights about the trip and user and help team make the decision about the operations and marketing strategy.\n",
    ">\n",
    "\n",
    "### Table of Content\n",
    "\n",
    "1. [Questions](#q)\n",
    "2. [Data Wrangling](#w)\n",
    "3. [Data Visualization](#v)\n",
    "4. [Insights and Conclusions](#i)"
   ]
  },
  {
   "cell_type": "markdown",
   "metadata": {
    "slideshow": {
     "slide_type": "slide"
    }
   },
   "source": [
    "## 1. Questions <a name=\"q\"></a>\n",
    "1. What's the demographic of users?\n",
    "2. What's the most popular station to pick up and return the bike?\n",
    "3. What's the use pattern of rides."
   ]
  },
  {
   "cell_type": "markdown",
   "metadata": {
    "slideshow": {
     "slide_type": "skip"
    }
   },
   "source": [
    "## 2. Data Wrangling <a name=\"w\"></a>"
   ]
  },
  {
   "cell_type": "code",
   "execution_count": 6,
   "metadata": {
    "slideshow": {
     "slide_type": "skip"
    }
   },
   "outputs": [],
   "source": [
    "## Import library\n",
    "import pandas as pd\n",
    "import numpy as np\n",
    "import seaborn as sns\n",
    "import matplotlib.pyplot as plt\n",
    "import os\n",
    "\n",
    "%matplotlib inline"
   ]
  },
  {
   "cell_type": "code",
   "execution_count": 7,
   "metadata": {
    "slideshow": {
     "slide_type": "skip"
    }
   },
   "outputs": [],
   "source": [
    "# Load the 10 csv file in the same folder.\n",
    "import re\n",
    "\n",
    "path = '/Users/amandaxiao/Desktop/Udacity/Projects/Project_5' \n",
    "files = [f for f in os.listdir(path) if re.match(r'[0-9]+.*\\.csv', f)]\n",
    "\n",
    "df=pd.DataFrame()\n",
    "\n",
    "for file in files:\n",
    "    a=pd.read_csv(file, )\n",
    "    df=df.append(a)\n",
    "    "
   ]
  },
  {
   "cell_type": "code",
   "execution_count": 8,
   "metadata": {
    "slideshow": {
     "slide_type": "skip"
    }
   },
   "outputs": [],
   "source": [
    "# Reset index\n",
    "bike=df.reset_index(drop=True)"
   ]
  },
  {
   "cell_type": "code",
   "execution_count": 9,
   "metadata": {
    "scrolled": false,
    "slideshow": {
     "slide_type": "skip"
    }
   },
   "outputs": [
    {
     "name": "stdout",
     "output_type": "stream",
     "text": [
      "There are 1396765 rows and 16 columns in the dataset\n"
     ]
    }
   ],
   "source": [
    "# Check the rows and columns in the dataset.\n",
    "bike.shape\n",
    "print(\"There are {a} rows and {b} columns in the dataset\".format(a=df.shape[0], b=df.shape[1]))"
   ]
  },
  {
   "cell_type": "code",
   "execution_count": 10,
   "metadata": {
    "slideshow": {
     "slide_type": "skip"
    }
   },
   "outputs": [
    {
     "data": {
      "text/plain": [
       "duration_sec                 int64\n",
       "start_time                  object\n",
       "end_time                    object\n",
       "start_station_id           float64\n",
       "start_station_name          object\n",
       "start_station_latitude     float64\n",
       "start_station_longitude    float64\n",
       "end_station_id             float64\n",
       "end_station_name            object\n",
       "end_station_latitude       float64\n",
       "end_station_longitude      float64\n",
       "bike_id                      int64\n",
       "user_type                   object\n",
       "member_birth_year          float64\n",
       "member_gender               object\n",
       "bike_share_for_all_trip     object\n",
       "dtype: object"
      ]
     },
     "execution_count": 10,
     "metadata": {},
     "output_type": "execute_result"
    }
   ],
   "source": [
    "# Check the datatype of df\n",
    "bike.dtypes"
   ]
  },
  {
   "cell_type": "code",
   "execution_count": 11,
   "metadata": {
    "slideshow": {
     "slide_type": "skip"
    }
   },
   "outputs": [
    {
     "data": {
      "text/plain": [
       "duration_sec                   0\n",
       "start_time                     0\n",
       "end_time                       0\n",
       "start_station_id            9739\n",
       "start_station_name          9739\n",
       "start_station_latitude         0\n",
       "start_station_longitude        0\n",
       "end_station_id              9739\n",
       "end_station_name            9739\n",
       "end_station_latitude           0\n",
       "end_station_longitude          0\n",
       "bike_id                        0\n",
       "user_type                      0\n",
       "member_birth_year          91955\n",
       "member_gender              91618\n",
       "bike_share_for_all_trip        0\n",
       "dtype: int64"
      ]
     },
     "execution_count": 11,
     "metadata": {},
     "output_type": "execute_result"
    }
   ],
   "source": [
    "bike.isnull().sum()"
   ]
  },
  {
   "cell_type": "markdown",
   "metadata": {
    "slideshow": {
     "slide_type": "skip"
    }
   },
   "source": [
    "There are 150K missing value in the birth_year and gender which doesn't account for a large portion of the dataset."
   ]
  },
  {
   "cell_type": "code",
   "execution_count": 12,
   "metadata": {
    "slideshow": {
     "slide_type": "skip"
    }
   },
   "outputs": [
    {
     "data": {
      "text/html": [
       "<div>\n",
       "<style scoped>\n",
       "    .dataframe tbody tr th:only-of-type {\n",
       "        vertical-align: middle;\n",
       "    }\n",
       "\n",
       "    .dataframe tbody tr th {\n",
       "        vertical-align: top;\n",
       "    }\n",
       "\n",
       "    .dataframe thead th {\n",
       "        text-align: right;\n",
       "    }\n",
       "</style>\n",
       "<table border=\"1\" class=\"dataframe\">\n",
       "  <thead>\n",
       "    <tr style=\"text-align: right;\">\n",
       "      <th></th>\n",
       "      <th>duration_sec</th>\n",
       "      <th>start_station_id</th>\n",
       "      <th>start_station_latitude</th>\n",
       "      <th>start_station_longitude</th>\n",
       "      <th>end_station_id</th>\n",
       "      <th>end_station_latitude</th>\n",
       "      <th>end_station_longitude</th>\n",
       "      <th>bike_id</th>\n",
       "      <th>member_birth_year</th>\n",
       "    </tr>\n",
       "  </thead>\n",
       "  <tbody>\n",
       "    <tr>\n",
       "      <th>count</th>\n",
       "      <td>1.396765e+06</td>\n",
       "      <td>1.387026e+06</td>\n",
       "      <td>1.396765e+06</td>\n",
       "      <td>1.396765e+06</td>\n",
       "      <td>1.387026e+06</td>\n",
       "      <td>1.396765e+06</td>\n",
       "      <td>1.396765e+06</td>\n",
       "      <td>1.396765e+06</td>\n",
       "      <td>1.304810e+06</td>\n",
       "    </tr>\n",
       "    <tr>\n",
       "      <th>mean</th>\n",
       "      <td>8.825069e+02</td>\n",
       "      <td>1.169855e+02</td>\n",
       "      <td>3.776707e+01</td>\n",
       "      <td>-1.223492e+02</td>\n",
       "      <td>1.154826e+02</td>\n",
       "      <td>3.776719e+01</td>\n",
       "      <td>-1.223487e+02</td>\n",
       "      <td>2.222074e+03</td>\n",
       "      <td>1.982818e+03</td>\n",
       "    </tr>\n",
       "    <tr>\n",
       "      <th>std</th>\n",
       "      <td>2.516952e+03</td>\n",
       "      <td>9.791467e+01</td>\n",
       "      <td>1.052730e-01</td>\n",
       "      <td>1.770016e-01</td>\n",
       "      <td>9.795242e+01</td>\n",
       "      <td>1.051614e-01</td>\n",
       "      <td>1.766444e-01</td>\n",
       "      <td>1.214644e+03</td>\n",
       "      <td>1.047095e+01</td>\n",
       "    </tr>\n",
       "    <tr>\n",
       "      <th>min</th>\n",
       "      <td>6.100000e+01</td>\n",
       "      <td>3.000000e+00</td>\n",
       "      <td>3.726331e+01</td>\n",
       "      <td>-1.224737e+02</td>\n",
       "      <td>3.000000e+00</td>\n",
       "      <td>3.726331e+01</td>\n",
       "      <td>-1.224737e+02</td>\n",
       "      <td>1.100000e+01</td>\n",
       "      <td>1.881000e+03</td>\n",
       "    </tr>\n",
       "    <tr>\n",
       "      <th>25%</th>\n",
       "      <td>3.520000e+02</td>\n",
       "      <td>3.100000e+01</td>\n",
       "      <td>3.777106e+01</td>\n",
       "      <td>-1.224113e+02</td>\n",
       "      <td>3.000000e+01</td>\n",
       "      <td>3.777106e+01</td>\n",
       "      <td>-1.224094e+02</td>\n",
       "      <td>1.199000e+03</td>\n",
       "      <td>1.977000e+03</td>\n",
       "    </tr>\n",
       "    <tr>\n",
       "      <th>50%</th>\n",
       "      <td>5.590000e+02</td>\n",
       "      <td>8.700000e+01</td>\n",
       "      <td>3.778127e+01</td>\n",
       "      <td>-1.223974e+02</td>\n",
       "      <td>8.600000e+01</td>\n",
       "      <td>3.778127e+01</td>\n",
       "      <td>-1.223971e+02</td>\n",
       "      <td>2.302000e+03</td>\n",
       "      <td>1.985000e+03</td>\n",
       "    </tr>\n",
       "    <tr>\n",
       "      <th>75%</th>\n",
       "      <td>8.810000e+02</td>\n",
       "      <td>1.820000e+02</td>\n",
       "      <td>3.779728e+01</td>\n",
       "      <td>-1.222852e+02</td>\n",
       "      <td>1.820000e+02</td>\n",
       "      <td>3.779728e+01</td>\n",
       "      <td>-1.222880e+02</td>\n",
       "      <td>3.248000e+03</td>\n",
       "      <td>1.990000e+03</td>\n",
       "    </tr>\n",
       "    <tr>\n",
       "      <th>max</th>\n",
       "      <td>8.636600e+04</td>\n",
       "      <td>3.740000e+02</td>\n",
       "      <td>4.551000e+01</td>\n",
       "      <td>-7.357000e+01</td>\n",
       "      <td>3.740000e+02</td>\n",
       "      <td>4.551000e+01</td>\n",
       "      <td>-7.357000e+01</td>\n",
       "      <td>4.466000e+03</td>\n",
       "      <td>2.000000e+03</td>\n",
       "    </tr>\n",
       "  </tbody>\n",
       "</table>\n",
       "</div>"
      ],
      "text/plain": [
       "       duration_sec  start_station_id  start_station_latitude  \\\n",
       "count  1.396765e+06      1.387026e+06            1.396765e+06   \n",
       "mean   8.825069e+02      1.169855e+02            3.776707e+01   \n",
       "std    2.516952e+03      9.791467e+01            1.052730e-01   \n",
       "min    6.100000e+01      3.000000e+00            3.726331e+01   \n",
       "25%    3.520000e+02      3.100000e+01            3.777106e+01   \n",
       "50%    5.590000e+02      8.700000e+01            3.778127e+01   \n",
       "75%    8.810000e+02      1.820000e+02            3.779728e+01   \n",
       "max    8.636600e+04      3.740000e+02            4.551000e+01   \n",
       "\n",
       "       start_station_longitude  end_station_id  end_station_latitude  \\\n",
       "count             1.396765e+06    1.387026e+06          1.396765e+06   \n",
       "mean             -1.223492e+02    1.154826e+02          3.776719e+01   \n",
       "std               1.770016e-01    9.795242e+01          1.051614e-01   \n",
       "min              -1.224737e+02    3.000000e+00          3.726331e+01   \n",
       "25%              -1.224113e+02    3.000000e+01          3.777106e+01   \n",
       "50%              -1.223974e+02    8.600000e+01          3.778127e+01   \n",
       "75%              -1.222852e+02    1.820000e+02          3.779728e+01   \n",
       "max              -7.357000e+01    3.740000e+02          4.551000e+01   \n",
       "\n",
       "       end_station_longitude       bike_id  member_birth_year  \n",
       "count           1.396765e+06  1.396765e+06       1.304810e+06  \n",
       "mean           -1.223487e+02  2.222074e+03       1.982818e+03  \n",
       "std             1.766444e-01  1.214644e+03       1.047095e+01  \n",
       "min            -1.224737e+02  1.100000e+01       1.881000e+03  \n",
       "25%            -1.224094e+02  1.199000e+03       1.977000e+03  \n",
       "50%            -1.223971e+02  2.302000e+03       1.985000e+03  \n",
       "75%            -1.222880e+02  3.248000e+03       1.990000e+03  \n",
       "max            -7.357000e+01  4.466000e+03       2.000000e+03  "
      ]
     },
     "execution_count": 12,
     "metadata": {},
     "output_type": "execute_result"
    }
   ],
   "source": [
    "bike.describe()"
   ]
  },
  {
   "cell_type": "markdown",
   "metadata": {
    "slideshow": {
     "slide_type": "skip"
    }
   },
   "source": [
    "**Data Issues**\n",
    "1. Bike_share_for all_trip is not very related to the analysis so I will remove it.\n",
    "2. The data type of start time and end time is not correct.\n",
    "3. Missing value in gender, birth_year, station_id and station name.\n",
    "4. duration sec is not easy to understand so need to convert into minute.\n",
    "5. There are some outliers in duration_sec and member_birth_year.\n",
    "6. Birth year is not very understandable so we can transform it into age."
   ]
  },
  {
   "cell_type": "markdown",
   "metadata": {
    "slideshow": {
     "slide_type": "skip"
    }
   },
   "source": [
    "### Clean"
   ]
  },
  {
   "cell_type": "code",
   "execution_count": 13,
   "metadata": {
    "slideshow": {
     "slide_type": "skip"
    }
   },
   "outputs": [],
   "source": [
    "# 1. Delete bike_share_for_all_trip column\n",
    "bike.drop(['bike_share_for_all_trip'], axis=1, inplace=True)"
   ]
  },
  {
   "cell_type": "code",
   "execution_count": 14,
   "metadata": {
    "slideshow": {
     "slide_type": "skip"
    }
   },
   "outputs": [],
   "source": [
    "# 2. change the data type of start time and end time\n",
    "bike.start_time=pd.to_datetime(bike.start_time)\n",
    "bike.end_time=pd.to_datetime(bike.end_time)"
   ]
  },
  {
   "cell_type": "code",
   "execution_count": 15,
   "metadata": {
    "slideshow": {
     "slide_type": "skip"
    }
   },
   "outputs": [
    {
     "data": {
      "text/plain": [
       "duration_sec                        int64\n",
       "start_time                 datetime64[ns]\n",
       "end_time                   datetime64[ns]\n",
       "start_station_id                  float64\n",
       "start_station_name                 object\n",
       "start_station_latitude            float64\n",
       "start_station_longitude           float64\n",
       "end_station_id                    float64\n",
       "end_station_name                   object\n",
       "end_station_latitude              float64\n",
       "end_station_longitude             float64\n",
       "bike_id                             int64\n",
       "user_type                          object\n",
       "member_birth_year                 float64\n",
       "member_gender                      object\n",
       "dtype: object"
      ]
     },
     "execution_count": 15,
     "metadata": {},
     "output_type": "execute_result"
    }
   ],
   "source": [
    "# Check new data type\n",
    "bike.dtypes"
   ]
  },
  {
   "cell_type": "code",
   "execution_count": 16,
   "metadata": {
    "slideshow": {
     "slide_type": "skip"
    }
   },
   "outputs": [],
   "source": [
    "# 3. Drop missing value\n",
    "bike.dropna(inplace=True)"
   ]
  },
  {
   "cell_type": "code",
   "execution_count": 17,
   "metadata": {
    "slideshow": {
     "slide_type": "skip"
    }
   },
   "outputs": [
    {
     "data": {
      "text/plain": [
       "duration_sec               0\n",
       "start_time                 0\n",
       "end_time                   0\n",
       "start_station_id           0\n",
       "start_station_name         0\n",
       "start_station_latitude     0\n",
       "start_station_longitude    0\n",
       "end_station_id             0\n",
       "end_station_name           0\n",
       "end_station_latitude       0\n",
       "end_station_longitude      0\n",
       "bike_id                    0\n",
       "user_type                  0\n",
       "member_birth_year          0\n",
       "member_gender              0\n",
       "dtype: int64"
      ]
     },
     "execution_count": 17,
     "metadata": {},
     "output_type": "execute_result"
    }
   ],
   "source": [
    "# Check are there any missing value\n",
    "bike.isnull().sum()"
   ]
  },
  {
   "cell_type": "code",
   "execution_count": 18,
   "metadata": {
    "slideshow": {
     "slide_type": "skip"
    }
   },
   "outputs": [],
   "source": [
    "# 4. Change the seconds to minutes\n",
    "bike['duration_mins']=bike['duration_sec']/60\n",
    "bike.duration_mins=bike.duration_mins.astype(int)"
   ]
  },
  {
   "cell_type": "code",
   "execution_count": 19,
   "metadata": {
    "slideshow": {
     "slide_type": "skip"
    }
   },
   "outputs": [],
   "source": [
    "#Delete duration_sec column\n",
    "bike.drop(['duration_sec'], axis=1, inplace=True)"
   ]
  },
  {
   "cell_type": "code",
   "execution_count": 20,
   "metadata": {
    "slideshow": {
     "slide_type": "skip"
    }
   },
   "outputs": [
    {
     "data": {
      "text/html": [
       "<div>\n",
       "<style scoped>\n",
       "    .dataframe tbody tr th:only-of-type {\n",
       "        vertical-align: middle;\n",
       "    }\n",
       "\n",
       "    .dataframe tbody tr th {\n",
       "        vertical-align: top;\n",
       "    }\n",
       "\n",
       "    .dataframe thead th {\n",
       "        text-align: right;\n",
       "    }\n",
       "</style>\n",
       "<table border=\"1\" class=\"dataframe\">\n",
       "  <thead>\n",
       "    <tr style=\"text-align: right;\">\n",
       "      <th></th>\n",
       "      <th>start_time</th>\n",
       "      <th>end_time</th>\n",
       "      <th>start_station_id</th>\n",
       "      <th>start_station_name</th>\n",
       "      <th>start_station_latitude</th>\n",
       "      <th>start_station_longitude</th>\n",
       "      <th>end_station_id</th>\n",
       "      <th>end_station_name</th>\n",
       "      <th>end_station_latitude</th>\n",
       "      <th>end_station_longitude</th>\n",
       "      <th>bike_id</th>\n",
       "      <th>user_type</th>\n",
       "      <th>member_birth_year</th>\n",
       "      <th>member_gender</th>\n",
       "      <th>duration_mins</th>\n",
       "    </tr>\n",
       "  </thead>\n",
       "  <tbody>\n",
       "    <tr>\n",
       "      <th>0</th>\n",
       "      <td>2018-02-28 23:59:47.097</td>\n",
       "      <td>2018-03-01 00:09:45.187</td>\n",
       "      <td>284.0</td>\n",
       "      <td>Yerba Buena Center for the Arts (Howard St at ...</td>\n",
       "      <td>37.784872</td>\n",
       "      <td>-122.400876</td>\n",
       "      <td>114.0</td>\n",
       "      <td>Rhode Island St at 17th St</td>\n",
       "      <td>37.764478</td>\n",
       "      <td>-122.402570</td>\n",
       "      <td>1035</td>\n",
       "      <td>Subscriber</td>\n",
       "      <td>1988.0</td>\n",
       "      <td>Male</td>\n",
       "      <td>9</td>\n",
       "    </tr>\n",
       "    <tr>\n",
       "      <th>1</th>\n",
       "      <td>2018-02-28 23:21:16.495</td>\n",
       "      <td>2018-02-28 23:36:59.974</td>\n",
       "      <td>6.0</td>\n",
       "      <td>The Embarcadero at Sansome St</td>\n",
       "      <td>37.804770</td>\n",
       "      <td>-122.403234</td>\n",
       "      <td>324.0</td>\n",
       "      <td>Union Square (Powell St at Post St)</td>\n",
       "      <td>37.788300</td>\n",
       "      <td>-122.408531</td>\n",
       "      <td>1673</td>\n",
       "      <td>Customer</td>\n",
       "      <td>1987.0</td>\n",
       "      <td>Male</td>\n",
       "      <td>15</td>\n",
       "    </tr>\n",
       "  </tbody>\n",
       "</table>\n",
       "</div>"
      ],
      "text/plain": [
       "               start_time                end_time  start_station_id  \\\n",
       "0 2018-02-28 23:59:47.097 2018-03-01 00:09:45.187             284.0   \n",
       "1 2018-02-28 23:21:16.495 2018-02-28 23:36:59.974               6.0   \n",
       "\n",
       "                                  start_station_name  start_station_latitude  \\\n",
       "0  Yerba Buena Center for the Arts (Howard St at ...               37.784872   \n",
       "1                      The Embarcadero at Sansome St               37.804770   \n",
       "\n",
       "   start_station_longitude  end_station_id  \\\n",
       "0              -122.400876           114.0   \n",
       "1              -122.403234           324.0   \n",
       "\n",
       "                      end_station_name  end_station_latitude  \\\n",
       "0           Rhode Island St at 17th St             37.764478   \n",
       "1  Union Square (Powell St at Post St)             37.788300   \n",
       "\n",
       "   end_station_longitude  bike_id   user_type  member_birth_year  \\\n",
       "0            -122.402570     1035  Subscriber             1988.0   \n",
       "1            -122.408531     1673    Customer             1987.0   \n",
       "\n",
       "  member_gender  duration_mins  \n",
       "0          Male              9  \n",
       "1          Male             15  "
      ]
     },
     "execution_count": 20,
     "metadata": {},
     "output_type": "execute_result"
    }
   ],
   "source": [
    "# Check the new dataset\n",
    "bike.head(2)"
   ]
  },
  {
   "cell_type": "code",
   "execution_count": 21,
   "metadata": {
    "scrolled": true,
    "slideshow": {
     "slide_type": "skip"
    }
   },
   "outputs": [],
   "source": [
    "#5. Delete the value less than 1940 in member_birth_year and delete duration mins>180 mins.\n",
    "bike=bike.loc[(bike['member_birth_year']>=1940)&(bike['duration_mins']<=180)]"
   ]
  },
  {
   "cell_type": "code",
   "execution_count": 22,
   "metadata": {
    "scrolled": true,
    "slideshow": {
     "slide_type": "skip"
    }
   },
   "outputs": [
    {
     "data": {
      "text/html": [
       "<div>\n",
       "<style scoped>\n",
       "    .dataframe tbody tr th:only-of-type {\n",
       "        vertical-align: middle;\n",
       "    }\n",
       "\n",
       "    .dataframe tbody tr th {\n",
       "        vertical-align: top;\n",
       "    }\n",
       "\n",
       "    .dataframe thead th {\n",
       "        text-align: right;\n",
       "    }\n",
       "</style>\n",
       "<table border=\"1\" class=\"dataframe\">\n",
       "  <thead>\n",
       "    <tr style=\"text-align: right;\">\n",
       "      <th></th>\n",
       "      <th>start_station_id</th>\n",
       "      <th>start_station_latitude</th>\n",
       "      <th>start_station_longitude</th>\n",
       "      <th>end_station_id</th>\n",
       "      <th>end_station_latitude</th>\n",
       "      <th>end_station_longitude</th>\n",
       "      <th>bike_id</th>\n",
       "      <th>member_birth_year</th>\n",
       "      <th>duration_mins</th>\n",
       "    </tr>\n",
       "  </thead>\n",
       "  <tbody>\n",
       "    <tr>\n",
       "      <th>count</th>\n",
       "      <td>1.289622e+06</td>\n",
       "      <td>1.289622e+06</td>\n",
       "      <td>1.289622e+06</td>\n",
       "      <td>1.289622e+06</td>\n",
       "      <td>1.289622e+06</td>\n",
       "      <td>1.289622e+06</td>\n",
       "      <td>1.289622e+06</td>\n",
       "      <td>1.289622e+06</td>\n",
       "      <td>1.289622e+06</td>\n",
       "    </tr>\n",
       "    <tr>\n",
       "      <th>mean</th>\n",
       "      <td>1.178474e+02</td>\n",
       "      <td>3.776928e+01</td>\n",
       "      <td>-1.223515e+02</td>\n",
       "      <td>1.163321e+02</td>\n",
       "      <td>3.776938e+01</td>\n",
       "      <td>-1.223510e+02</td>\n",
       "      <td>2.213780e+03</td>\n",
       "      <td>1.982884e+03</td>\n",
       "      <td>1.116066e+01</td>\n",
       "    </tr>\n",
       "    <tr>\n",
       "      <th>std</th>\n",
       "      <td>9.764817e+01</td>\n",
       "      <td>1.001586e-01</td>\n",
       "      <td>1.181734e-01</td>\n",
       "      <td>9.766190e+01</td>\n",
       "      <td>1.000085e-01</td>\n",
       "      <td>1.176012e-01</td>\n",
       "      <td>1.210709e+03</td>\n",
       "      <td>1.016188e+01</td>\n",
       "      <td>1.137662e+01</td>\n",
       "    </tr>\n",
       "    <tr>\n",
       "      <th>min</th>\n",
       "      <td>3.000000e+00</td>\n",
       "      <td>3.726331e+01</td>\n",
       "      <td>-1.224737e+02</td>\n",
       "      <td>3.000000e+00</td>\n",
       "      <td>3.726331e+01</td>\n",
       "      <td>-1.224737e+02</td>\n",
       "      <td>1.100000e+01</td>\n",
       "      <td>1.940000e+03</td>\n",
       "      <td>1.000000e+00</td>\n",
       "    </tr>\n",
       "    <tr>\n",
       "      <th>25%</th>\n",
       "      <td>3.400000e+01</td>\n",
       "      <td>3.777106e+01</td>\n",
       "      <td>-1.224114e+02</td>\n",
       "      <td>3.000000e+01</td>\n",
       "      <td>3.777143e+01</td>\n",
       "      <td>-1.224094e+02</td>\n",
       "      <td>1.193000e+03</td>\n",
       "      <td>1.977000e+03</td>\n",
       "      <td>5.000000e+00</td>\n",
       "    </tr>\n",
       "    <tr>\n",
       "      <th>50%</th>\n",
       "      <td>8.800000e+01</td>\n",
       "      <td>3.778127e+01</td>\n",
       "      <td>-1.223971e+02</td>\n",
       "      <td>8.800000e+01</td>\n",
       "      <td>3.778127e+01</td>\n",
       "      <td>-1.223959e+02</td>\n",
       "      <td>2.292000e+03</td>\n",
       "      <td>1.985000e+03</td>\n",
       "      <td>9.000000e+00</td>\n",
       "    </tr>\n",
       "    <tr>\n",
       "      <th>75%</th>\n",
       "      <td>1.820000e+02</td>\n",
       "      <td>3.779728e+01</td>\n",
       "      <td>-1.222856e+02</td>\n",
       "      <td>1.820000e+02</td>\n",
       "      <td>3.779728e+01</td>\n",
       "      <td>-1.222894e+02</td>\n",
       "      <td>3.240000e+03</td>\n",
       "      <td>1.990000e+03</td>\n",
       "      <td>1.300000e+01</td>\n",
       "    </tr>\n",
       "    <tr>\n",
       "      <th>max</th>\n",
       "      <td>3.740000e+02</td>\n",
       "      <td>3.788022e+01</td>\n",
       "      <td>-1.218333e+02</td>\n",
       "      <td>3.740000e+02</td>\n",
       "      <td>3.788022e+01</td>\n",
       "      <td>-1.218333e+02</td>\n",
       "      <td>4.466000e+03</td>\n",
       "      <td>2.000000e+03</td>\n",
       "      <td>1.800000e+02</td>\n",
       "    </tr>\n",
       "  </tbody>\n",
       "</table>\n",
       "</div>"
      ],
      "text/plain": [
       "       start_station_id  start_station_latitude  start_station_longitude  \\\n",
       "count      1.289622e+06            1.289622e+06             1.289622e+06   \n",
       "mean       1.178474e+02            3.776928e+01            -1.223515e+02   \n",
       "std        9.764817e+01            1.001586e-01             1.181734e-01   \n",
       "min        3.000000e+00            3.726331e+01            -1.224737e+02   \n",
       "25%        3.400000e+01            3.777106e+01            -1.224114e+02   \n",
       "50%        8.800000e+01            3.778127e+01            -1.223971e+02   \n",
       "75%        1.820000e+02            3.779728e+01            -1.222856e+02   \n",
       "max        3.740000e+02            3.788022e+01            -1.218333e+02   \n",
       "\n",
       "       end_station_id  end_station_latitude  end_station_longitude  \\\n",
       "count    1.289622e+06          1.289622e+06           1.289622e+06   \n",
       "mean     1.163321e+02          3.776938e+01          -1.223510e+02   \n",
       "std      9.766190e+01          1.000085e-01           1.176012e-01   \n",
       "min      3.000000e+00          3.726331e+01          -1.224737e+02   \n",
       "25%      3.000000e+01          3.777143e+01          -1.224094e+02   \n",
       "50%      8.800000e+01          3.778127e+01          -1.223959e+02   \n",
       "75%      1.820000e+02          3.779728e+01          -1.222894e+02   \n",
       "max      3.740000e+02          3.788022e+01          -1.218333e+02   \n",
       "\n",
       "            bike_id  member_birth_year  duration_mins  \n",
       "count  1.289622e+06       1.289622e+06   1.289622e+06  \n",
       "mean   2.213780e+03       1.982884e+03   1.116066e+01  \n",
       "std    1.210709e+03       1.016188e+01   1.137662e+01  \n",
       "min    1.100000e+01       1.940000e+03   1.000000e+00  \n",
       "25%    1.193000e+03       1.977000e+03   5.000000e+00  \n",
       "50%    2.292000e+03       1.985000e+03   9.000000e+00  \n",
       "75%    3.240000e+03       1.990000e+03   1.300000e+01  \n",
       "max    4.466000e+03       2.000000e+03   1.800000e+02  "
      ]
     },
     "execution_count": 22,
     "metadata": {},
     "output_type": "execute_result"
    }
   ],
   "source": [
    "# Check the new descriptive statitics.\n",
    "bike.describe()"
   ]
  },
  {
   "cell_type": "code",
   "execution_count": 23,
   "metadata": {
    "slideshow": {
     "slide_type": "skip"
    }
   },
   "outputs": [],
   "source": [
    "#6. Conver the birth_year to Age.\n",
    "bike['member_age']=2018-bike['member_birth_year']\n",
    "bike.drop(['member_birth_year'], axis=1, inplace=True)"
   ]
  },
  {
   "cell_type": "code",
   "execution_count": 24,
   "metadata": {
    "slideshow": {
     "slide_type": "skip"
    }
   },
   "outputs": [
    {
     "data": {
      "text/plain": [
       "count    1.289622e+06\n",
       "mean     3.511599e+01\n",
       "std      1.016188e+01\n",
       "min      1.800000e+01\n",
       "25%      2.800000e+01\n",
       "50%      3.300000e+01\n",
       "75%      4.100000e+01\n",
       "max      7.800000e+01\n",
       "Name: member_age, dtype: float64"
      ]
     },
     "execution_count": 24,
     "metadata": {},
     "output_type": "execute_result"
    }
   ],
   "source": [
    "bike.member_age.describe()"
   ]
  },
  {
   "cell_type": "code",
   "execution_count": 25,
   "metadata": {
    "slideshow": {
     "slide_type": "skip"
    }
   },
   "outputs": [],
   "source": [
    "bins=[18,35,55,75]\n",
    "\n",
    "bike['age_group']=pd.cut(bike.member_age, bins, labels=['18~35','36~55','56~75'])"
   ]
  },
  {
   "cell_type": "code",
   "execution_count": 26,
   "metadata": {
    "slideshow": {
     "slide_type": "skip"
    }
   },
   "outputs": [
    {
     "data": {
      "text/html": [
       "<div>\n",
       "<style scoped>\n",
       "    .dataframe tbody tr th:only-of-type {\n",
       "        vertical-align: middle;\n",
       "    }\n",
       "\n",
       "    .dataframe tbody tr th {\n",
       "        vertical-align: top;\n",
       "    }\n",
       "\n",
       "    .dataframe thead th {\n",
       "        text-align: right;\n",
       "    }\n",
       "</style>\n",
       "<table border=\"1\" class=\"dataframe\">\n",
       "  <thead>\n",
       "    <tr style=\"text-align: right;\">\n",
       "      <th></th>\n",
       "      <th>start_time</th>\n",
       "      <th>end_time</th>\n",
       "      <th>start_station_id</th>\n",
       "      <th>start_station_name</th>\n",
       "      <th>start_station_latitude</th>\n",
       "      <th>start_station_longitude</th>\n",
       "      <th>end_station_id</th>\n",
       "      <th>end_station_name</th>\n",
       "      <th>end_station_latitude</th>\n",
       "      <th>end_station_longitude</th>\n",
       "      <th>bike_id</th>\n",
       "      <th>user_type</th>\n",
       "      <th>member_gender</th>\n",
       "      <th>duration_mins</th>\n",
       "      <th>member_age</th>\n",
       "      <th>age_group</th>\n",
       "    </tr>\n",
       "  </thead>\n",
       "  <tbody>\n",
       "    <tr>\n",
       "      <th>0</th>\n",
       "      <td>2018-02-28 23:59:47.097</td>\n",
       "      <td>2018-03-01 00:09:45.187</td>\n",
       "      <td>284.0</td>\n",
       "      <td>Yerba Buena Center for the Arts (Howard St at ...</td>\n",
       "      <td>37.784872</td>\n",
       "      <td>-122.400876</td>\n",
       "      <td>114.0</td>\n",
       "      <td>Rhode Island St at 17th St</td>\n",
       "      <td>37.764478</td>\n",
       "      <td>-122.402570</td>\n",
       "      <td>1035</td>\n",
       "      <td>Subscriber</td>\n",
       "      <td>Male</td>\n",
       "      <td>9</td>\n",
       "      <td>30.0</td>\n",
       "      <td>18~35</td>\n",
       "    </tr>\n",
       "    <tr>\n",
       "      <th>1</th>\n",
       "      <td>2018-02-28 23:21:16.495</td>\n",
       "      <td>2018-02-28 23:36:59.974</td>\n",
       "      <td>6.0</td>\n",
       "      <td>The Embarcadero at Sansome St</td>\n",
       "      <td>37.804770</td>\n",
       "      <td>-122.403234</td>\n",
       "      <td>324.0</td>\n",
       "      <td>Union Square (Powell St at Post St)</td>\n",
       "      <td>37.788300</td>\n",
       "      <td>-122.408531</td>\n",
       "      <td>1673</td>\n",
       "      <td>Customer</td>\n",
       "      <td>Male</td>\n",
       "      <td>15</td>\n",
       "      <td>31.0</td>\n",
       "      <td>18~35</td>\n",
       "    </tr>\n",
       "    <tr>\n",
       "      <th>4</th>\n",
       "      <td>2018-02-28 23:15:12.858</td>\n",
       "      <td>2018-02-28 23:29:58.608</td>\n",
       "      <td>308.0</td>\n",
       "      <td>San Pedro Square</td>\n",
       "      <td>37.336802</td>\n",
       "      <td>-121.894090</td>\n",
       "      <td>297.0</td>\n",
       "      <td>Locust St at Grant St</td>\n",
       "      <td>37.322980</td>\n",
       "      <td>-121.887931</td>\n",
       "      <td>1839</td>\n",
       "      <td>Subscriber</td>\n",
       "      <td>Female</td>\n",
       "      <td>14</td>\n",
       "      <td>42.0</td>\n",
       "      <td>36~55</td>\n",
       "    </tr>\n",
       "    <tr>\n",
       "      <th>5</th>\n",
       "      <td>2018-02-28 23:14:19.170</td>\n",
       "      <td>2018-02-28 23:29:40.437</td>\n",
       "      <td>312.0</td>\n",
       "      <td>San Jose Diridon Station</td>\n",
       "      <td>37.329732</td>\n",
       "      <td>-121.901782</td>\n",
       "      <td>288.0</td>\n",
       "      <td>Mission St at 1st St</td>\n",
       "      <td>37.350964</td>\n",
       "      <td>-121.902016</td>\n",
       "      <td>2656</td>\n",
       "      <td>Customer</td>\n",
       "      <td>Male</td>\n",
       "      <td>15</td>\n",
       "      <td>21.0</td>\n",
       "      <td>18~35</td>\n",
       "    </tr>\n",
       "    <tr>\n",
       "      <th>6</th>\n",
       "      <td>2018-02-28 23:21:49.274</td>\n",
       "      <td>2018-02-28 23:26:27.222</td>\n",
       "      <td>316.0</td>\n",
       "      <td>San Salvador St at 1st St</td>\n",
       "      <td>37.330165</td>\n",
       "      <td>-121.885831</td>\n",
       "      <td>310.0</td>\n",
       "      <td>San Fernando St at 4th St</td>\n",
       "      <td>37.335885</td>\n",
       "      <td>-121.885660</td>\n",
       "      <td>1616</td>\n",
       "      <td>Subscriber</td>\n",
       "      <td>Female</td>\n",
       "      <td>4</td>\n",
       "      <td>61.0</td>\n",
       "      <td>56~75</td>\n",
       "    </tr>\n",
       "  </tbody>\n",
       "</table>\n",
       "</div>"
      ],
      "text/plain": [
       "               start_time                end_time  start_station_id  \\\n",
       "0 2018-02-28 23:59:47.097 2018-03-01 00:09:45.187             284.0   \n",
       "1 2018-02-28 23:21:16.495 2018-02-28 23:36:59.974               6.0   \n",
       "4 2018-02-28 23:15:12.858 2018-02-28 23:29:58.608             308.0   \n",
       "5 2018-02-28 23:14:19.170 2018-02-28 23:29:40.437             312.0   \n",
       "6 2018-02-28 23:21:49.274 2018-02-28 23:26:27.222             316.0   \n",
       "\n",
       "                                  start_station_name  start_station_latitude  \\\n",
       "0  Yerba Buena Center for the Arts (Howard St at ...               37.784872   \n",
       "1                      The Embarcadero at Sansome St               37.804770   \n",
       "4                                   San Pedro Square               37.336802   \n",
       "5                           San Jose Diridon Station               37.329732   \n",
       "6                          San Salvador St at 1st St               37.330165   \n",
       "\n",
       "   start_station_longitude  end_station_id  \\\n",
       "0              -122.400876           114.0   \n",
       "1              -122.403234           324.0   \n",
       "4              -121.894090           297.0   \n",
       "5              -121.901782           288.0   \n",
       "6              -121.885831           310.0   \n",
       "\n",
       "                      end_station_name  end_station_latitude  \\\n",
       "0           Rhode Island St at 17th St             37.764478   \n",
       "1  Union Square (Powell St at Post St)             37.788300   \n",
       "4                Locust St at Grant St             37.322980   \n",
       "5                 Mission St at 1st St             37.350964   \n",
       "6            San Fernando St at 4th St             37.335885   \n",
       "\n",
       "   end_station_longitude  bike_id   user_type member_gender  duration_mins  \\\n",
       "0            -122.402570     1035  Subscriber          Male              9   \n",
       "1            -122.408531     1673    Customer          Male             15   \n",
       "4            -121.887931     1839  Subscriber        Female             14   \n",
       "5            -121.902016     2656    Customer          Male             15   \n",
       "6            -121.885660     1616  Subscriber        Female              4   \n",
       "\n",
       "   member_age age_group  \n",
       "0        30.0     18~35  \n",
       "1        31.0     18~35  \n",
       "4        42.0     36~55  \n",
       "5        21.0     18~35  \n",
       "6        61.0     56~75  "
      ]
     },
     "execution_count": 26,
     "metadata": {},
     "output_type": "execute_result"
    }
   ],
   "source": [
    "bike.head()"
   ]
  },
  {
   "cell_type": "markdown",
   "metadata": {
    "slideshow": {
     "slide_type": "slide"
    }
   },
   "source": [
    "## Data Visualization and Analysis <a name=\"v\"></a>"
   ]
  },
  {
   "cell_type": "markdown",
   "metadata": {
    "slideshow": {
     "slide_type": "subslide"
    }
   },
   "source": [
    "Question 1: What's the demographic of users?"
   ]
  },
  {
   "cell_type": "code",
   "execution_count": 27,
   "metadata": {
    "slideshow": {
     "slide_type": "subslide"
    }
   },
   "outputs": [
    {
     "data": {
      "image/png": "[encoded data removed]",
      "text/plain": [
       "<Figure size 432x288 with 1 Axes>"
      ]
     },
     "metadata": {
      "needs_background": "light"
     },
     "output_type": "display_data"
    }
   ],
   "source": [
    "# User Information\n",
    "n_points=bike.shape[0]\n",
    "max_count=bike.member_gender.value_counts().max()\n",
    "max_prop=max_count/n_points\n",
    "\n",
    "# Generate tick mark locations and names\n",
    "tick_props=np.arange(0, max_prop, 0.2)\n",
    "tick_names=['{:0.2f}'.format(v) for v in tick_props]\n",
    "\n",
    "# create plot\n",
    "\n",
    "sns.countplot(data=bike, x='member_gender')\n",
    "plt.yticks(tick_props*n_points, tick_names)\n",
    "plt.ylabel('proportion')\n",
    "plt.xlabel('gender')\n",
    "plt.title('Proportion of each gender')\n",
    "\n",
    "\n",
    "# Add annotation\n",
    "gender_count=bike.member_gender.value_counts()\n",
    "locs, labels=plt.xticks()\n",
    "\n",
    "for loc, label in zip(locs, labels):\n",
    "    count = gender_count[label.get_text()] \n",
    "    pct_string = '{:0.1f}%'.format(100*count/n_points)\n",
    "\n",
    "    # print the annotation just below the top of the bar\n",
    "    plt.text(loc, count, pct_string, ha = 'center', color = 'black')"
   ]
  },
  {
   "cell_type": "markdown",
   "metadata": {
    "slideshow": {
     "slide_type": "subslide"
    }
   },
   "source": [
    "74.2% of users are male and 24.3% of users are female, others only account for 1.5%. Male user accounts for the large portion of total users."
   ]
  },
  {
   "cell_type": "code",
   "execution_count": 28,
   "metadata": {
    "slideshow": {
     "slide_type": "subslide"
    }
   },
   "outputs": [
    {
     "data": {
      "text/plain": [
       "Text(0.5, 1.0, 'gender vs. user type distribution')"
      ]
     },
     "execution_count": 28,
     "metadata": {},
     "output_type": "execute_result"
    },
    {
     "data": {
      "image/png": "[encoded data removed]",
      "text/plain": [
       "<Figure size 432x288 with 1 Axes>"
      ]
     },
     "metadata": {
      "needs_background": "light"
     },
     "output_type": "display_data"
    }
   ],
   "source": [
    "sns.countplot(data=bike, x='member_gender', hue='user_type')\n",
    "plt.title(\"gender vs. user type distribution\")"
   ]
  },
  {
   "cell_type": "markdown",
   "metadata": {
    "slideshow": {
     "slide_type": "subslide"
    }
   },
   "source": [
    "Here, we can conclude that the subscriber accounts for 80% of each gender, so we need to take more effort to the user experience of subscriber to improve the user retention."
   ]
  },
  {
   "cell_type": "code",
   "execution_count": 29,
   "metadata": {
    "scrolled": false,
    "slideshow": {
     "slide_type": "subslide"
    }
   },
   "outputs": [
    {
     "data": {
      "text/plain": [
       "<matplotlib.axes._subplots.AxesSubplot at 0x1a3def9810>"
      ]
     },
     "execution_count": 29,
     "metadata": {},
     "output_type": "execute_result"
    },
    {
     "data": {
      "image/png": "[encoded data removed]",
      "text/plain": [
       "<Figure size 432x288 with 1 Axes>"
      ]
     },
     "metadata": {
      "needs_background": "light"
     },
     "output_type": "display_data"
    }
   ],
   "source": [
    "x, y, hue = \"age_group\", \"proportion\", \"user_type\"\n",
    "\n",
    "(bike[x]\n",
    " .groupby(bike[hue])\n",
    " .value_counts(normalize=True)\n",
    " .rename(y)\n",
    " .reset_index()\n",
    " .pipe((sns.barplot, \"data\"), x=x, y=y, hue=hue))"
   ]
  },
  {
   "cell_type": "markdown",
   "metadata": {
    "slideshow": {
     "slide_type": "subslide"
    }
   },
   "source": [
    "In the graph, we can see that about 70% of customers are from 18 ~ 35 age group, 28% of customers are from 36 ~ 55 age group. 60% subscribers are from 18 ~ 35 age group and about 35% of subsribers are from 36 ~ 55 age group. Thus, we can conclude that the proportion of subscriber in 36 ~ 55 age group is higher than the proportion of subscriber in 18 ~ 35 group. It could easier to convert a customer to a subscriber in 36 ~ 55 age group."
   ]
  },
  {
   "cell_type": "markdown",
   "metadata": {
    "slideshow": {
     "slide_type": "subslide"
    }
   },
   "source": [
    "Question 2: What's the use pattern of rides?"
   ]
  },
  {
   "cell_type": "code",
   "execution_count": 30,
   "metadata": {
    "slideshow": {
     "slide_type": "subslide"
    }
   },
   "outputs": [
    {
     "data": {
      "text/plain": [
       "Text(0.5, 1.0, 'Frequency of durations')"
      ]
     },
     "execution_count": 30,
     "metadata": {},
     "output_type": "execute_result"
    },
    {
     "data": {
      "image/png": "[encoded data removed]",
      "text/plain": [
       "<Figure size 432x288 with 1 Axes>"
      ]
     },
     "metadata": {
      "needs_background": "light"
     },
     "output_type": "display_data"
    }
   ],
   "source": [
    "## 1. Check the distribution of duration minutes\n",
    "bins=np.arange(0, bike.duration_mins.max()+5, 5)\n",
    "\n",
    "plt.hist(bike.duration_mins, bins=bins)\n",
    "plt.xlim(0,100)\n",
    "plt.xlabel(\"Duration in minutes\")\n",
    "plt.ylabel(\"Count\")\n",
    "plt.title(\"Frequency of durations\")"
   ]
  },
  {
   "cell_type": "markdown",
   "metadata": {
    "slideshow": {
     "slide_type": "subslide"
    }
   },
   "source": [
    "In this chart, we can see that the duration of most trips are less than 20 mins; Most of users spend 5 minutes to 10 minutes for each trip."
   ]
  },
  {
   "cell_type": "code",
   "execution_count": 31,
   "metadata": {
    "scrolled": true,
    "slideshow": {
     "slide_type": "subslide"
    }
   },
   "outputs": [
    {
     "data": {
      "text/plain": [
       "Text(0.5, 1.0, 'Boxplot for duration by user_type')"
      ]
     },
     "execution_count": 31,
     "metadata": {},
     "output_type": "execute_result"
    },
    {
     "data": {
      "image/png": "[encoded data removed]",
      "text/plain": [
       "<Figure size 432x288 with 1 Axes>"
      ]
     },
     "metadata": {
      "needs_background": "light"
     },
     "output_type": "display_data"
    }
   ],
   "source": [
    "## Duration for different user type\n",
    "sns.boxplot(data=bike, x='user_type',y='duration_mins')\n",
    "plt.title(\"Boxplot for duration by user_type\")"
   ]
  },
  {
   "cell_type": "code",
   "execution_count": 32,
   "metadata": {
    "slideshow": {
     "slide_type": "skip"
    }
   },
   "outputs": [
    {
     "data": {
      "text/plain": [
       "user_type\n",
       "Customer      14\n",
       "Subscriber     8\n",
       "Name: duration_mins, dtype: int64"
      ]
     },
     "execution_count": 32,
     "metadata": {},
     "output_type": "execute_result"
    }
   ],
   "source": [
    "bike.groupby(\"user_type\").duration_mins.median()"
   ]
  },
  {
   "cell_type": "markdown",
   "metadata": {
    "slideshow": {
     "slide_type": "subslide"
    }
   },
   "source": [
    "The median duration of customer is 14 mins which is higher than median duration of subscriber  8 mins. We can dive deep about this observation to see the reason behind, possible reason could be: customer use the bike on occasion to arrive somewhere without walking distance, whereas subscriber usually has the fixed route to go."
   ]
  },
  {
   "cell_type": "code",
   "execution_count": 33,
   "metadata": {
    "slideshow": {
     "slide_type": "subslide"
    }
   },
   "outputs": [
    {
     "data": {
      "text/plain": [
       "Text(0.5, 1.0, 'Boxplot for duration by gender')"
      ]
     },
     "execution_count": 33,
     "metadata": {},
     "output_type": "execute_result"
    },
    {
     "data": {
      "image/png": "[encoded data removed]",
      "text/plain": [
       "<Figure size 432x288 with 1 Axes>"
      ]
     },
     "metadata": {
      "needs_background": "light"
     },
     "output_type": "display_data"
    }
   ],
   "source": [
    "# Check the duration for different gender\n",
    "sns.boxplot(data=bike, x='member_gender', y='duration_mins')\n",
    "plt.title(\"Boxplot for duration by gender\")"
   ]
  },
  {
   "cell_type": "code",
   "execution_count": 34,
   "metadata": {
    "slideshow": {
     "slide_type": "skip"
    }
   },
   "outputs": [
    {
     "data": {
      "text/plain": [
       "member_gender\n",
       "Female    10\n",
       "Male       8\n",
       "Other      9\n",
       "Name: duration_mins, dtype: int64"
      ]
     },
     "execution_count": 34,
     "metadata": {},
     "output_type": "execute_result"
    }
   ],
   "source": [
    "bike.groupby(\"member_gender\").duration_mins.median()"
   ]
  },
  {
   "cell_type": "markdown",
   "metadata": {
    "slideshow": {
     "slide_type": "subslide"
    }
   },
   "source": [
    "In this boxplot chart, we can see the median duration for female 10 minutes is higher than median duration for male 8 mins."
   ]
  },
  {
   "cell_type": "code",
   "execution_count": 35,
   "metadata": {
    "scrolled": true,
    "slideshow": {
     "slide_type": "subslide"
    }
   },
   "outputs": [
    {
     "data": {
      "text/plain": [
       "Text(0.5, 1.0, 'Bar chart of duration by age group')"
      ]
     },
     "execution_count": 35,
     "metadata": {},
     "output_type": "execute_result"
    },
    {
     "data": {
      "image/png": "[encoded data removed]",
      "text/plain": [
       "<Figure size 432x288 with 1 Axes>"
      ]
     },
     "metadata": {
      "needs_background": "light"
     },
     "output_type": "display_data"
    }
   ],
   "source": [
    "# Check the duration for different age group\n",
    "sns.barplot(data=bike, x='age_group', y='duration_mins', color='blue')\n",
    "plt.title(\"Bar chart of duration by age group\")"
   ]
  },
  {
   "cell_type": "code",
   "execution_count": 71,
   "metadata": {},
   "outputs": [
    {
     "data": {
      "text/plain": [
       "Male      944456\n",
       "Female    325540\n",
       "Other      19626\n",
       "Name: member_gender, dtype: int64"
      ]
     },
     "execution_count": 71,
     "metadata": {},
     "output_type": "execute_result"
    }
   ],
   "source": [
    "bike.member_gender.value_counts()"
   ]
  },
  {
   "cell_type": "markdown",
   "metadata": {
    "slideshow": {
     "slide_type": "subslide"
    }
   },
   "source": [
    "We can see that 56 ~ 75 age group has the higest duration, and then 18 ~ 35 group; 36 ~ 55 age group has the lowest average duration for each trip."
   ]
  },
  {
   "cell_type": "code",
   "execution_count": 85,
   "metadata": {
    "slideshow": {
     "slide_type": "subslide"
    }
   },
   "outputs": [
    {
     "data": {
      "text/plain": [
       "<matplotlib.axes._subplots.AxesSubplot at 0x1a280a6490>"
      ]
     },
     "execution_count": 85,
     "metadata": {},
     "output_type": "execute_result"
    },
    {
     "data": {
      "image/png": "[encoded data removed]",
      "text/plain": [
       "<Figure size 432x288 with 2 Axes>"
      ]
     },
     "metadata": {
      "needs_background": "light"
     },
     "output_type": "display_data"
    }
   ],
   "source": [
    "# Heatmap for different age_group and gender\n",
    "cat_means = bike.groupby(['age_group', 'member_gender']).mean()['duration_mins']\n",
    "cat_means = cat_means.reset_index(name = 'mean_duration_mins')\n",
    "cat_means = cat_means.pivot(index = 'member_gender', columns = 'age_group',\n",
    "                            values = 'mean_duration_mins')\n",
    "sns.heatmap(cat_means, annot = True, fmt = '.3f',\n",
    "           cbar_kws = {'label' : 'mean(duration_mins)'})"
   ]
  },
  {
   "cell_type": "markdown",
   "metadata": {
    "slideshow": {
     "slide_type": "subslide"
    }
   },
   "source": [
    "Here, we can see that mean duration for 18 ~ 35 and 36~ 55 age group for male are almost the same, the average duaration for each trip is 10.5 minutes. The highest average duration happens in the female in 56 ~ 75 age group. On average, in the same age group, female user usually spend 2 more minutes than male user. This may result in the higher fee charged from female user than male user if we charge the fee by total time spent. Thus, I recommend that we can take both mileage and time spent into consideration to charge the fee. "
   ]
  },
  {
   "cell_type": "code",
   "execution_count": 36,
   "metadata": {
    "slideshow": {
     "slide_type": "subslide"
    }
   },
   "outputs": [
    {
     "data": {
      "text/plain": [
       "Text(0.5, 1.0, 'Start time in one day')"
      ]
     },
     "execution_count": 36,
     "metadata": {},
     "output_type": "execute_result"
    },
    {
     "data": {
      "image/png": "[encoded data removed]",
      "text/plain": [
       "<Figure size 432x288 with 1 Axes>"
      ]
     },
     "metadata": {
      "needs_background": "light"
     },
     "output_type": "display_data"
    }
   ],
   "source": [
    "# Check the peak time to use the bike.\n",
    "sns.countplot(bike.start_time.dt.hour, color='blue')\n",
    "plt.title(\"Start time in one day\")"
   ]
  },
  {
   "cell_type": "code",
   "execution_count": 47,
   "metadata": {
    "slideshow": {
     "slide_type": "subslide"
    }
   },
   "outputs": [
    {
     "data": {
      "text/plain": [
       "Text(0.5, 1.0, 'start time frequency in Day of week')"
      ]
     },
     "execution_count": 47,
     "metadata": {},
     "output_type": "execute_result"
    },
    {
     "data": {
      "image/png": "[encoded data removed]",
      "text/plain": [
       "<Figure size 432x288 with 1 Axes>"
      ]
     },
     "metadata": {
      "needs_background": "light"
     },
     "output_type": "display_data"
    }
   ],
   "source": [
    "# Check which day that the bikes get highest usage.\n",
    "sns.countplot(bike.start_time.dt.weekday, color='blue')\n",
    "\n",
    "#labels=['sun','mon','tue','wed','thu','fri','sat']\n",
    "plt.xticks(x=bike.start_time.dt.weekday)\n",
    "plt.title(\"start time frequency in Day of week\")"
   ]
  },
  {
   "cell_type": "markdown",
   "metadata": {
    "slideshow": {
     "slide_type": "subslide"
    }
   },
   "source": [
    "From this image, we can see 7:00 ~ 9:00 and 16:00 ~ 18:00 are the peak time to use bike sharing, and it aligns with the morning rush hour so I can assume most frequent use cases is to commute. The bikes get the highest usage during weekday, which is again, prove that the most frequent use case is for people to commute."
   ]
  },
  {
   "cell_type": "markdown",
   "metadata": {
    "slideshow": {
     "slide_type": "subslide"
    }
   },
   "source": [
    "Question 3: What' the most popular station to pick up and return the bike?"
   ]
  },
  {
   "cell_type": "code",
   "execution_count": 38,
   "metadata": {
    "scrolled": true,
    "slideshow": {
     "slide_type": "skip"
    }
   },
   "outputs": [],
   "source": [
    "#Visualization of start station and end station\n",
    "import folium\n",
    "\n",
    "# San Francisco latitude and longitude values\n",
    "latitude = 37.77\n",
    "longitude = -122.42\n",
    "\n",
    "# Create map and display it\n",
    "sf_map_1 = folium.Map(location=[latitude, longitude], zoom_start=12)\n",
    "sf_map_2 = folium.Map(location=[latitude, longitude], zoom_start=12)\n"
   ]
  },
  {
   "cell_type": "code",
   "execution_count": 39,
   "metadata": {
    "slideshow": {
     "slide_type": "skip"
    }
   },
   "outputs": [
    {
     "data": {
      "text/plain": [
       "<folium.plugins.heat_map.HeatMap at 0x1a3b0a2150>"
      ]
     },
     "execution_count": 39,
     "metadata": {},
     "output_type": "execute_result"
    }
   ],
   "source": [
    "from folium.plugins import HeatMap\n",
    "\n",
    "bike['count'] = 1\n",
    "data1=bike[['start_station_latitude', 'start_station_longitude', 'count']].groupby(['start_station_latitude', 'start_station_longitude']).sum().reset_index().values.tolist()\n",
    "\n",
    "HeatMap(data=data1, radius=6, gradient={.4:'blue',.65:\"lime\", 1:\"red\"},max_zoom=10).add_to(sf_map_1)\n",
    "\n"
   ]
  },
  {
   "cell_type": "code",
   "execution_count": 40,
   "metadata": {
    "slideshow": {
     "slide_type": "skip"
    }
   },
   "outputs": [
    {
     "data": {
      "text/plain": [
       "<folium.plugins.heat_map.HeatMap at 0x1a3b2301d0>"
      ]
     },
     "execution_count": 40,
     "metadata": {},
     "output_type": "execute_result"
    }
   ],
   "source": [
    "data2=bike[['end_station_latitude', 'end_station_longitude', 'count']].groupby(['end_station_latitude', 'end_station_longitude']).sum().reset_index().values.tolist()\n",
    "\n",
    "HeatMap(data=data2, radius=6, gradient={.4:'blue',.65:\"lime\", 1:\"red\"},max_zoom=10).add_to(sf_map_2)"
   ]
  },
  {
   "cell_type": "code",
   "execution_count": 41,
   "metadata": {
    "scrolled": true,
    "slideshow": {
     "slide_type": "subslide"
    }
   },
   "outputs": [
    {
     "data": {
      "text/html": [
       "<div style=\"width:100%;\"><div style=\"position:relative;width:100%;height:0;padding-bottom:60%;\"><span style=\"color:#565656\">Make this Notebook Trusted to load map: File -> Trust Notebook</span><iframe src=\"about:blank\" style=\"position:absolute;width:100%;height:100%;left:0;top:0;border:none !important;\" data-html=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 onload=\"this.contentDocument.open();this.contentDocument.write(atob(this.getAttribute('data-html')));this.contentDocument.close();\" allowfullscreen webkitallowfullscreen mozallowfullscreen></iframe></div></div>"
      ],
      "text/plain": [
       "<folium.folium.Map at 0x1a3b22a550>"
      ]
     },
     "execution_count": 41,
     "metadata": {},
     "output_type": "execute_result"
    }
   ],
   "source": [
    "sf_map_1"
   ]
  },
  {
   "cell_type": "code",
   "execution_count": 42,
   "metadata": {
    "slideshow": {
     "slide_type": "subslide"
    }
   },
   "outputs": [
    {
     "data": {
      "text/html": [
       "<div style=\"width:100%;\"><div style=\"position:relative;width:100%;height:0;padding-bottom:60%;\"><span style=\"color:#565656\">Make this Notebook Trusted to load map: File -> Trust Notebook</span><iframe src=\"about:blank\" style=\"position:absolute;width:100%;height:100%;left:0;top:0;border:none !important;\" data-html=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 onload=\"this.contentDocument.open();this.contentDocument.write(atob(this.getAttribute('data-html')));this.contentDocument.close();\" allowfullscreen webkitallowfullscreen mozallowfullscreen></iframe></div></div>"
      ],
      "text/plain": [
       "<folium.folium.Map at 0x1a3b22aad0>"
      ]
     },
     "execution_count": 42,
     "metadata": {},
     "output_type": "execute_result"
    }
   ],
   "source": [
    "sf_map_2"
   ]
  },
  {
   "cell_type": "markdown",
   "metadata": {
    "slideshow": {
     "slide_type": "subslide"
    }
   },
   "source": [
    "In this heatmap, we can see that the trip start station are centrated on San Francisco, Oakland and San Jose. That makes sense since the density of office buildings in these 3 area is very high. Thus, in this 3 area, we need to improve the bike inspection frequently here to make sure we provide enough amount of bikes in good quality."
   ]
  },
  {
   "cell_type": "markdown",
   "metadata": {
    "slideshow": {
     "slide_type": "slide"
    }
   },
   "source": [
    "### Conclusions\n",
    "\n",
    "\n",
    "Given the insight we generated from the analysis, I think we can have some improvement about the marketing strategy and operations.\n",
    "\n",
    "- In the San Francisco, Berkely, Oakland and San Jose area we can build more bike stations and put more bikes there for make sure we provide enough amount of bikes.\n",
    "\n",
    "- Especially during weekday morning and evening, we need to make sure the enough supply for people since the most frequent use cases for user is to commute for work.\n",
    "\n",
    "- Since male users account for a large amount of our users, we can put more marketing budget and resources focus to the male customer.\n",
    "\n",
    "- The difference average duration between male and femal user may result in the higher fee charged from female user than male user if we charge the fee by total time spent. Thus, I recommend that we can take both mileage and time spent into consideration to charge the fee.\n",
    "\n"
   ]
  }
 ],
 "metadata": {
  "celltoolbar": "Slideshow",
  "kernelspec": {
   "display_name": "Python 3",
   "language": "python",
   "name": "python3"
  },
  "language_info": {
   "codemirror_mode": {
    "name": "ipython",
    "version": 3
   },
   "file_extension": ".py",
   "mimetype": "text/x-python",
   "name": "python",
   "nbconvert_exporter": "python",
   "pygments_lexer": "ipython3",
   "version": "3.7.6"
  }
 },
 "nbformat": 4,
 "nbformat_minor": 4
}
