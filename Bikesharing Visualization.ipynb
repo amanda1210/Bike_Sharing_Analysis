{
 "cells": [
  {
   "cell_type": "markdown",
   "metadata": {},
   "source": [
    "# Ford GoBike Data Visualization and Analysis\n",
    "\n",
    "### Introduction\n",
    "> This project is analyzing the Ford GoBike system data from 2017-1 to 2018-10. The goal of the project is to explore some insights about the trip and user and help team make the decision about the operations and marketing strategy.\n",
    ">\n",
    "\n",
    "### Table of Content\n",
    "\n",
    "1. [Questions](#q)\n",
    "2. [Data Wrangling](#w)\n",
    "3. [Data Visualization](#v)\n",
    "4. [Insights and Conclusions](#i)"
   ]
  },
  {
   "cell_type": "markdown",
   "metadata": {},
   "source": [
    "## 2. Data Wrangling <a name=\"w\"></a>"
   ]
  },
  {
   "cell_type": "code",
   "execution_count": 139,
   "metadata": {},
   "outputs": [],
   "source": [
    "## Import library\n",
    "import pandas as pd\n",
    "import numpy as np\n",
    "import seaborn as sns\n",
    "import matplotlib.pyplot as plt\n",
    "import os\n",
    "\n",
    "%matplotlib inline"
   ]
  },
  {
   "cell_type": "code",
   "execution_count": 140,
   "metadata": {},
   "outputs": [],
   "source": [
    "# Load the 10 csv file in the same folder.\n",
    "import re\n",
    "\n",
    "path = '/Users/amandaxiao/Desktop/Udacity/Projects/Project_5' #待读取文件的文件夹绝对地址\n",
    "files = [f for f in os.listdir(path) if re.match(r'[0-9]+.*\\.csv', f)]\n",
    "\n",
    "df=pd.DataFrame()\n",
    "\n",
    "for file in files:\n",
    "    a=pd.read_csv(file, )\n",
    "    df=df.append(a)\n",
    "    "
   ]
  },
  {
   "cell_type": "code",
   "execution_count": 141,
   "metadata": {},
   "outputs": [],
   "source": [
    "# Reset index\n",
    "bike=df.reset_index(drop=True)"
   ]
  },
  {
   "cell_type": "code",
   "execution_count": 142,
   "metadata": {
    "scrolled": false
   },
   "outputs": [
    {
     "name": "stdout",
     "output_type": "stream",
     "text": [
      "There are 1916465 rows and 16 columns in the dataset\n"
     ]
    }
   ],
   "source": [
    "# Check the rows and columns in the dataset.\n",
    "bike.shape\n",
    "print(\"There are {a} rows and {b} columns in the dataset\".format(a=df.shape[0], b=df.shape[1]))"
   ]
  },
  {
   "cell_type": "code",
   "execution_count": 143,
   "metadata": {},
   "outputs": [
    {
     "data": {
      "text/plain": [
       "duration_sec                 int64\n",
       "start_time                  object\n",
       "end_time                    object\n",
       "start_station_id           float64\n",
       "start_station_name          object\n",
       "start_station_latitude     float64\n",
       "start_station_longitude    float64\n",
       "end_station_id             float64\n",
       "end_station_name            object\n",
       "end_station_latitude       float64\n",
       "end_station_longitude      float64\n",
       "bike_id                      int64\n",
       "user_type                   object\n",
       "member_birth_year          float64\n",
       "member_gender               object\n",
       "bike_share_for_all_trip     object\n",
       "dtype: object"
      ]
     },
     "execution_count": 143,
     "metadata": {},
     "output_type": "execute_result"
    }
   ],
   "source": [
    "# Check the datatype of df\n",
    "bike.dtypes"
   ]
  },
  {
   "cell_type": "code",
   "execution_count": 144,
   "metadata": {},
   "outputs": [
    {
     "data": {
      "text/plain": [
       "duration_sec                    0\n",
       "start_time                      0\n",
       "end_time                        0\n",
       "start_station_id             9739\n",
       "start_station_name           9739\n",
       "start_station_latitude          0\n",
       "start_station_longitude         0\n",
       "end_station_id               9739\n",
       "end_station_name             9739\n",
       "end_station_latitude            0\n",
       "end_station_longitude           0\n",
       "bike_id                         0\n",
       "user_type                       0\n",
       "member_birth_year          158496\n",
       "member_gender              158080\n",
       "bike_share_for_all_trip    519700\n",
       "dtype: int64"
      ]
     },
     "execution_count": 144,
     "metadata": {},
     "output_type": "execute_result"
    }
   ],
   "source": [
    "bike.isnull().sum()"
   ]
  },
  {
   "cell_type": "markdown",
   "metadata": {},
   "source": [
    "There are 150K missing value in the birth_year and gender which doesn't account for a large portion of the dataset."
   ]
  },
  {
   "cell_type": "code",
   "execution_count": 145,
   "metadata": {},
   "outputs": [
    {
     "data": {
      "text/html": [
       "<div>\n",
       "<style scoped>\n",
       "    .dataframe tbody tr th:only-of-type {\n",
       "        vertical-align: middle;\n",
       "    }\n",
       "\n",
       "    .dataframe tbody tr th {\n",
       "        vertical-align: top;\n",
       "    }\n",
       "\n",
       "    .dataframe thead th {\n",
       "        text-align: right;\n",
       "    }\n",
       "</style>\n",
       "<table border=\"1\" class=\"dataframe\">\n",
       "  <thead>\n",
       "    <tr style=\"text-align: right;\">\n",
       "      <th></th>\n",
       "      <th>duration_sec</th>\n",
       "      <th>start_station_id</th>\n",
       "      <th>start_station_latitude</th>\n",
       "      <th>start_station_longitude</th>\n",
       "      <th>end_station_id</th>\n",
       "      <th>end_station_latitude</th>\n",
       "      <th>end_station_longitude</th>\n",
       "      <th>bike_id</th>\n",
       "      <th>member_birth_year</th>\n",
       "    </tr>\n",
       "  </thead>\n",
       "  <tbody>\n",
       "    <tr>\n",
       "      <th>count</th>\n",
       "      <td>1.916465e+06</td>\n",
       "      <td>1.906726e+06</td>\n",
       "      <td>1.916465e+06</td>\n",
       "      <td>1.916465e+06</td>\n",
       "      <td>1.906726e+06</td>\n",
       "      <td>1.916465e+06</td>\n",
       "      <td>1.916465e+06</td>\n",
       "      <td>1.916465e+06</td>\n",
       "      <td>1.757969e+06</td>\n",
       "    </tr>\n",
       "    <tr>\n",
       "      <th>mean</th>\n",
       "      <td>9.412173e+02</td>\n",
       "      <td>1.110024e+02</td>\n",
       "      <td>3.776831e+01</td>\n",
       "      <td>-1.223532e+02</td>\n",
       "      <td>1.091323e+02</td>\n",
       "      <td>3.776845e+01</td>\n",
       "      <td>-1.223527e+02</td>\n",
       "      <td>2.073052e+03</td>\n",
       "      <td>1.982196e+03</td>\n",
       "    </tr>\n",
       "    <tr>\n",
       "      <th>std</th>\n",
       "      <td>2.800558e+03</td>\n",
       "      <td>9.533863e+01</td>\n",
       "      <td>1.005044e-01</td>\n",
       "      <td>1.609312e-01</td>\n",
       "      <td>9.515778e+01</td>\n",
       "      <td>1.004009e-01</td>\n",
       "      <td>1.605616e-01</td>\n",
       "      <td>1.179333e+03</td>\n",
       "      <td>1.053493e+01</td>\n",
       "    </tr>\n",
       "    <tr>\n",
       "      <th>min</th>\n",
       "      <td>6.100000e+01</td>\n",
       "      <td>3.000000e+00</td>\n",
       "      <td>3.726331e+01</td>\n",
       "      <td>-1.224737e+02</td>\n",
       "      <td>3.000000e+00</td>\n",
       "      <td>3.726331e+01</td>\n",
       "      <td>-1.224737e+02</td>\n",
       "      <td>1.000000e+01</td>\n",
       "      <td>1.881000e+03</td>\n",
       "    </tr>\n",
       "    <tr>\n",
       "      <th>25%</th>\n",
       "      <td>3.600000e+02</td>\n",
       "      <td>3.000000e+01</td>\n",
       "      <td>3.777166e+01</td>\n",
       "      <td>-1.224114e+02</td>\n",
       "      <td>2.800000e+01</td>\n",
       "      <td>3.777176e+01</td>\n",
       "      <td>-1.224094e+02</td>\n",
       "      <td>1.079000e+03</td>\n",
       "      <td>1.977000e+03</td>\n",
       "    </tr>\n",
       "    <tr>\n",
       "      <th>50%</th>\n",
       "      <td>5.690000e+02</td>\n",
       "      <td>8.100000e+01</td>\n",
       "      <td>3.778165e+01</td>\n",
       "      <td>-1.223974e+02</td>\n",
       "      <td>7.900000e+01</td>\n",
       "      <td>3.778175e+01</td>\n",
       "      <td>-1.223974e+02</td>\n",
       "      <td>2.116000e+03</td>\n",
       "      <td>1.985000e+03</td>\n",
       "    </tr>\n",
       "    <tr>\n",
       "      <th>75%</th>\n",
       "      <td>8.960000e+02</td>\n",
       "      <td>1.760000e+02</td>\n",
       "      <td>3.779539e+01</td>\n",
       "      <td>-1.222948e+02</td>\n",
       "      <td>1.760000e+02</td>\n",
       "      <td>3.779539e+01</td>\n",
       "      <td>-1.222948e+02</td>\n",
       "      <td>3.020000e+03</td>\n",
       "      <td>1.990000e+03</td>\n",
       "    </tr>\n",
       "    <tr>\n",
       "      <th>max</th>\n",
       "      <td>8.636900e+04</td>\n",
       "      <td>3.740000e+02</td>\n",
       "      <td>4.551000e+01</td>\n",
       "      <td>-7.357000e+01</td>\n",
       "      <td>3.740000e+02</td>\n",
       "      <td>4.551000e+01</td>\n",
       "      <td>-7.357000e+01</td>\n",
       "      <td>4.466000e+03</td>\n",
       "      <td>2.000000e+03</td>\n",
       "    </tr>\n",
       "  </tbody>\n",
       "</table>\n",
       "</div>"
      ],
      "text/plain": [
       "       duration_sec  start_station_id  start_station_latitude  \\\n",
       "count  1.916465e+06      1.906726e+06            1.916465e+06   \n",
       "mean   9.412173e+02      1.110024e+02            3.776831e+01   \n",
       "std    2.800558e+03      9.533863e+01            1.005044e-01   \n",
       "min    6.100000e+01      3.000000e+00            3.726331e+01   \n",
       "25%    3.600000e+02      3.000000e+01            3.777166e+01   \n",
       "50%    5.690000e+02      8.100000e+01            3.778165e+01   \n",
       "75%    8.960000e+02      1.760000e+02            3.779539e+01   \n",
       "max    8.636900e+04      3.740000e+02            4.551000e+01   \n",
       "\n",
       "       start_station_longitude  end_station_id  end_station_latitude  \\\n",
       "count             1.916465e+06    1.906726e+06          1.916465e+06   \n",
       "mean             -1.223532e+02    1.091323e+02          3.776845e+01   \n",
       "std               1.609312e-01    9.515778e+01          1.004009e-01   \n",
       "min              -1.224737e+02    3.000000e+00          3.726331e+01   \n",
       "25%              -1.224114e+02    2.800000e+01          3.777176e+01   \n",
       "50%              -1.223974e+02    7.900000e+01          3.778175e+01   \n",
       "75%              -1.222948e+02    1.760000e+02          3.779539e+01   \n",
       "max              -7.357000e+01    3.740000e+02          4.551000e+01   \n",
       "\n",
       "       end_station_longitude       bike_id  member_birth_year  \n",
       "count           1.916465e+06  1.916465e+06       1.757969e+06  \n",
       "mean           -1.223527e+02  2.073052e+03       1.982196e+03  \n",
       "std             1.605616e-01  1.179333e+03       1.053493e+01  \n",
       "min            -1.224737e+02  1.000000e+01       1.881000e+03  \n",
       "25%            -1.224094e+02  1.079000e+03       1.977000e+03  \n",
       "50%            -1.223974e+02  2.116000e+03       1.985000e+03  \n",
       "75%            -1.222948e+02  3.020000e+03       1.990000e+03  \n",
       "max            -7.357000e+01  4.466000e+03       2.000000e+03  "
      ]
     },
     "execution_count": 145,
     "metadata": {},
     "output_type": "execute_result"
    }
   ],
   "source": [
    "bike.describe()"
   ]
  },
  {
   "cell_type": "markdown",
   "metadata": {},
   "source": [
    "**Data Issues**\n",
    "1. Bike_share_for all_trip is not very related to the analysis so I will remove it.\n",
    "2. The data type of start time and end time is not correct.\n",
    "3. Missing value in gender, birth_year, station_id and station name.\n",
    "4. duration sec is not easy to understand so need to convert into minute.\n",
    "5. There are some outliers in duration_sec and member_birth_year.\n",
    "6. Birth year is not very understandable so we can transform it into age."
   ]
  },
  {
   "cell_type": "markdown",
   "metadata": {},
   "source": [
    "### Clean"
   ]
  },
  {
   "cell_type": "code",
   "execution_count": 146,
   "metadata": {},
   "outputs": [],
   "source": [
    "# 1. Delete bike_share_for_all_trip column\n",
    "bike.drop(['bike_share_for_all_trip'], axis=1, inplace=True)"
   ]
  },
  {
   "cell_type": "code",
   "execution_count": 147,
   "metadata": {},
   "outputs": [],
   "source": [
    "# 2. change the data type of start time and end time\n",
    "bike.start_time=pd.to_datetime(bike.start_time)\n",
    "bike.end_time=pd.to_datetime(bike.end_time)"
   ]
  },
  {
   "cell_type": "code",
   "execution_count": 148,
   "metadata": {},
   "outputs": [
    {
     "data": {
      "text/plain": [
       "duration_sec                        int64\n",
       "start_time                 datetime64[ns]\n",
       "end_time                   datetime64[ns]\n",
       "start_station_id                  float64\n",
       "start_station_name                 object\n",
       "start_station_latitude            float64\n",
       "start_station_longitude           float64\n",
       "end_station_id                    float64\n",
       "end_station_name                   object\n",
       "end_station_latitude              float64\n",
       "end_station_longitude             float64\n",
       "bike_id                             int64\n",
       "user_type                          object\n",
       "member_birth_year                 float64\n",
       "member_gender                      object\n",
       "dtype: object"
      ]
     },
     "execution_count": 148,
     "metadata": {},
     "output_type": "execute_result"
    }
   ],
   "source": [
    "# Check new data type\n",
    "bike.dtypes"
   ]
  },
  {
   "cell_type": "code",
   "execution_count": 149,
   "metadata": {},
   "outputs": [],
   "source": [
    "# 3. Drop missing value\n",
    "bike.dropna(inplace=True)"
   ]
  },
  {
   "cell_type": "code",
   "execution_count": 150,
   "metadata": {},
   "outputs": [
    {
     "data": {
      "text/plain": [
       "duration_sec               0\n",
       "start_time                 0\n",
       "end_time                   0\n",
       "start_station_id           0\n",
       "start_station_name         0\n",
       "start_station_latitude     0\n",
       "start_station_longitude    0\n",
       "end_station_id             0\n",
       "end_station_name           0\n",
       "end_station_latitude       0\n",
       "end_station_longitude      0\n",
       "bike_id                    0\n",
       "user_type                  0\n",
       "member_birth_year          0\n",
       "member_gender              0\n",
       "dtype: int64"
      ]
     },
     "execution_count": 150,
     "metadata": {},
     "output_type": "execute_result"
    }
   ],
   "source": [
    "# Check are there any missing value\n",
    "bike.isnull().sum()"
   ]
  },
  {
   "cell_type": "code",
   "execution_count": 151,
   "metadata": {},
   "outputs": [],
   "source": [
    "# 4. Change the seconds to minutes\n",
    "bike['duration_mins']=bike['duration_sec']/60\n",
    "bike.duration_mins=bike.duration_mins.astype(int)"
   ]
  },
  {
   "cell_type": "code",
   "execution_count": 152,
   "metadata": {},
   "outputs": [],
   "source": [
    "#Delete duration_sec column\n",
    "bike.drop(['duration_sec'], axis=1, inplace=True)"
   ]
  },
  {
   "cell_type": "code",
   "execution_count": 153,
   "metadata": {},
   "outputs": [
    {
     "data": {
      "text/html": [
       "<div>\n",
       "<style scoped>\n",
       "    .dataframe tbody tr th:only-of-type {\n",
       "        vertical-align: middle;\n",
       "    }\n",
       "\n",
       "    .dataframe tbody tr th {\n",
       "        vertical-align: top;\n",
       "    }\n",
       "\n",
       "    .dataframe thead th {\n",
       "        text-align: right;\n",
       "    }\n",
       "</style>\n",
       "<table border=\"1\" class=\"dataframe\">\n",
       "  <thead>\n",
       "    <tr style=\"text-align: right;\">\n",
       "      <th></th>\n",
       "      <th>start_time</th>\n",
       "      <th>end_time</th>\n",
       "      <th>start_station_id</th>\n",
       "      <th>start_station_name</th>\n",
       "      <th>start_station_latitude</th>\n",
       "      <th>start_station_longitude</th>\n",
       "      <th>end_station_id</th>\n",
       "      <th>end_station_name</th>\n",
       "      <th>end_station_latitude</th>\n",
       "      <th>end_station_longitude</th>\n",
       "      <th>bike_id</th>\n",
       "      <th>user_type</th>\n",
       "      <th>member_birth_year</th>\n",
       "      <th>member_gender</th>\n",
       "      <th>duration_mins</th>\n",
       "    </tr>\n",
       "  </thead>\n",
       "  <tbody>\n",
       "    <tr>\n",
       "      <th>0</th>\n",
       "      <td>2018-02-28 23:59:47.097</td>\n",
       "      <td>2018-03-01 00:09:45.187</td>\n",
       "      <td>284.0</td>\n",
       "      <td>Yerba Buena Center for the Arts (Howard St at ...</td>\n",
       "      <td>37.784872</td>\n",
       "      <td>-122.400876</td>\n",
       "      <td>114.0</td>\n",
       "      <td>Rhode Island St at 17th St</td>\n",
       "      <td>37.764478</td>\n",
       "      <td>-122.402570</td>\n",
       "      <td>1035</td>\n",
       "      <td>Subscriber</td>\n",
       "      <td>1988.0</td>\n",
       "      <td>Male</td>\n",
       "      <td>9</td>\n",
       "    </tr>\n",
       "    <tr>\n",
       "      <th>1</th>\n",
       "      <td>2018-02-28 23:21:16.495</td>\n",
       "      <td>2018-02-28 23:36:59.974</td>\n",
       "      <td>6.0</td>\n",
       "      <td>The Embarcadero at Sansome St</td>\n",
       "      <td>37.804770</td>\n",
       "      <td>-122.403234</td>\n",
       "      <td>324.0</td>\n",
       "      <td>Union Square (Powell St at Post St)</td>\n",
       "      <td>37.788300</td>\n",
       "      <td>-122.408531</td>\n",
       "      <td>1673</td>\n",
       "      <td>Customer</td>\n",
       "      <td>1987.0</td>\n",
       "      <td>Male</td>\n",
       "      <td>15</td>\n",
       "    </tr>\n",
       "  </tbody>\n",
       "</table>\n",
       "</div>"
      ],
      "text/plain": [
       "               start_time                end_time  start_station_id  \\\n",
       "0 2018-02-28 23:59:47.097 2018-03-01 00:09:45.187             284.0   \n",
       "1 2018-02-28 23:21:16.495 2018-02-28 23:36:59.974               6.0   \n",
       "\n",
       "                                  start_station_name  start_station_latitude  \\\n",
       "0  Yerba Buena Center for the Arts (Howard St at ...               37.784872   \n",
       "1                      The Embarcadero at Sansome St               37.804770   \n",
       "\n",
       "   start_station_longitude  end_station_id  \\\n",
       "0              -122.400876           114.0   \n",
       "1              -122.403234           324.0   \n",
       "\n",
       "                      end_station_name  end_station_latitude  \\\n",
       "0           Rhode Island St at 17th St             37.764478   \n",
       "1  Union Square (Powell St at Post St)             37.788300   \n",
       "\n",
       "   end_station_longitude  bike_id   user_type  member_birth_year  \\\n",
       "0            -122.402570     1035  Subscriber             1988.0   \n",
       "1            -122.408531     1673    Customer             1987.0   \n",
       "\n",
       "  member_gender  duration_mins  \n",
       "0          Male              9  \n",
       "1          Male             15  "
      ]
     },
     "execution_count": 153,
     "metadata": {},
     "output_type": "execute_result"
    }
   ],
   "source": [
    "# Check the new dataset\n",
    "bike.head(2)"
   ]
  },
  {
   "cell_type": "code",
   "execution_count": 154,
   "metadata": {
    "scrolled": true
   },
   "outputs": [],
   "source": [
    "#5. Delete the value less than 1940 in member_birth_year and delete duration mins>180 mins.\n",
    "bike=bike.loc[(bike['member_birth_year']>=1940)&(bike['duration_mins']<=180)]"
   ]
  },
  {
   "cell_type": "code",
   "execution_count": 155,
   "metadata": {
    "scrolled": true
   },
   "outputs": [
    {
     "data": {
      "text/html": [
       "<div>\n",
       "<style scoped>\n",
       "    .dataframe tbody tr th:only-of-type {\n",
       "        vertical-align: middle;\n",
       "    }\n",
       "\n",
       "    .dataframe tbody tr th {\n",
       "        vertical-align: top;\n",
       "    }\n",
       "\n",
       "    .dataframe thead th {\n",
       "        text-align: right;\n",
       "    }\n",
       "</style>\n",
       "<table border=\"1\" class=\"dataframe\">\n",
       "  <thead>\n",
       "    <tr style=\"text-align: right;\">\n",
       "      <th></th>\n",
       "      <th>start_station_id</th>\n",
       "      <th>start_station_latitude</th>\n",
       "      <th>start_station_longitude</th>\n",
       "      <th>end_station_id</th>\n",
       "      <th>end_station_latitude</th>\n",
       "      <th>end_station_longitude</th>\n",
       "      <th>bike_id</th>\n",
       "      <th>member_birth_year</th>\n",
       "      <th>duration_mins</th>\n",
       "    </tr>\n",
       "  </thead>\n",
       "  <tbody>\n",
       "    <tr>\n",
       "      <th>count</th>\n",
       "      <td>1.739999e+06</td>\n",
       "      <td>1.739999e+06</td>\n",
       "      <td>1.739999e+06</td>\n",
       "      <td>1.739999e+06</td>\n",
       "      <td>1.739999e+06</td>\n",
       "      <td>1.739999e+06</td>\n",
       "      <td>1.739999e+06</td>\n",
       "      <td>1.739999e+06</td>\n",
       "      <td>1.739999e+06</td>\n",
       "    </tr>\n",
       "    <tr>\n",
       "      <th>mean</th>\n",
       "      <td>1.119385e+02</td>\n",
       "      <td>3.776996e+01</td>\n",
       "      <td>-1.223548e+02</td>\n",
       "      <td>1.099850e+02</td>\n",
       "      <td>3.777006e+01</td>\n",
       "      <td>-1.223542e+02</td>\n",
       "      <td>2.075966e+03</td>\n",
       "      <td>1.982269e+03</td>\n",
       "      <td>1.115807e+01</td>\n",
       "    </tr>\n",
       "    <tr>\n",
       "      <th>std</th>\n",
       "      <td>9.496192e+01</td>\n",
       "      <td>9.646683e-02</td>\n",
       "      <td>1.148724e-01</td>\n",
       "      <td>9.469924e+01</td>\n",
       "      <td>9.632799e-02</td>\n",
       "      <td>1.143094e-01</td>\n",
       "      <td>1.177183e+03</td>\n",
       "      <td>1.021840e+01</td>\n",
       "      <td>1.129814e+01</td>\n",
       "    </tr>\n",
       "    <tr>\n",
       "      <th>min</th>\n",
       "      <td>3.000000e+00</td>\n",
       "      <td>3.726331e+01</td>\n",
       "      <td>-1.224737e+02</td>\n",
       "      <td>3.000000e+00</td>\n",
       "      <td>3.726331e+01</td>\n",
       "      <td>-1.224737e+02</td>\n",
       "      <td>1.000000e+01</td>\n",
       "      <td>1.940000e+03</td>\n",
       "      <td>1.000000e+00</td>\n",
       "    </tr>\n",
       "    <tr>\n",
       "      <th>25%</th>\n",
       "      <td>3.000000e+01</td>\n",
       "      <td>3.777166e+01</td>\n",
       "      <td>-1.224114e+02</td>\n",
       "      <td>3.000000e+01</td>\n",
       "      <td>3.777176e+01</td>\n",
       "      <td>-1.224094e+02</td>\n",
       "      <td>1.083000e+03</td>\n",
       "      <td>1.977000e+03</td>\n",
       "      <td>5.000000e+00</td>\n",
       "    </tr>\n",
       "    <tr>\n",
       "      <th>50%</th>\n",
       "      <td>8.100000e+01</td>\n",
       "      <td>3.778127e+01</td>\n",
       "      <td>-1.223974e+02</td>\n",
       "      <td>8.100000e+01</td>\n",
       "      <td>3.778175e+01</td>\n",
       "      <td>-1.223971e+02</td>\n",
       "      <td>2.121000e+03</td>\n",
       "      <td>1.985000e+03</td>\n",
       "      <td>9.000000e+00</td>\n",
       "    </tr>\n",
       "    <tr>\n",
       "      <th>75%</th>\n",
       "      <td>1.780000e+02</td>\n",
       "      <td>3.779539e+01</td>\n",
       "      <td>-1.222948e+02</td>\n",
       "      <td>1.760000e+02</td>\n",
       "      <td>3.779539e+01</td>\n",
       "      <td>-1.222948e+02</td>\n",
       "      <td>3.028000e+03</td>\n",
       "      <td>1.990000e+03</td>\n",
       "      <td>1.300000e+01</td>\n",
       "    </tr>\n",
       "    <tr>\n",
       "      <th>max</th>\n",
       "      <td>3.740000e+02</td>\n",
       "      <td>3.788022e+01</td>\n",
       "      <td>-1.218333e+02</td>\n",
       "      <td>3.740000e+02</td>\n",
       "      <td>3.788022e+01</td>\n",
       "      <td>-1.218333e+02</td>\n",
       "      <td>4.466000e+03</td>\n",
       "      <td>2.000000e+03</td>\n",
       "      <td>1.800000e+02</td>\n",
       "    </tr>\n",
       "  </tbody>\n",
       "</table>\n",
       "</div>"
      ],
      "text/plain": [
       "       start_station_id  start_station_latitude  start_station_longitude  \\\n",
       "count      1.739999e+06            1.739999e+06             1.739999e+06   \n",
       "mean       1.119385e+02            3.776996e+01            -1.223548e+02   \n",
       "std        9.496192e+01            9.646683e-02             1.148724e-01   \n",
       "min        3.000000e+00            3.726331e+01            -1.224737e+02   \n",
       "25%        3.000000e+01            3.777166e+01            -1.224114e+02   \n",
       "50%        8.100000e+01            3.778127e+01            -1.223974e+02   \n",
       "75%        1.780000e+02            3.779539e+01            -1.222948e+02   \n",
       "max        3.740000e+02            3.788022e+01            -1.218333e+02   \n",
       "\n",
       "       end_station_id  end_station_latitude  end_station_longitude  \\\n",
       "count    1.739999e+06          1.739999e+06           1.739999e+06   \n",
       "mean     1.099850e+02          3.777006e+01          -1.223542e+02   \n",
       "std      9.469924e+01          9.632799e-02           1.143094e-01   \n",
       "min      3.000000e+00          3.726331e+01          -1.224737e+02   \n",
       "25%      3.000000e+01          3.777176e+01          -1.224094e+02   \n",
       "50%      8.100000e+01          3.778175e+01          -1.223971e+02   \n",
       "75%      1.760000e+02          3.779539e+01          -1.222948e+02   \n",
       "max      3.740000e+02          3.788022e+01          -1.218333e+02   \n",
       "\n",
       "            bike_id  member_birth_year  duration_mins  \n",
       "count  1.739999e+06       1.739999e+06   1.739999e+06  \n",
       "mean   2.075966e+03       1.982269e+03   1.115807e+01  \n",
       "std    1.177183e+03       1.021840e+01   1.129814e+01  \n",
       "min    1.000000e+01       1.940000e+03   1.000000e+00  \n",
       "25%    1.083000e+03       1.977000e+03   5.000000e+00  \n",
       "50%    2.121000e+03       1.985000e+03   9.000000e+00  \n",
       "75%    3.028000e+03       1.990000e+03   1.300000e+01  \n",
       "max    4.466000e+03       2.000000e+03   1.800000e+02  "
      ]
     },
     "execution_count": 155,
     "metadata": {},
     "output_type": "execute_result"
    }
   ],
   "source": [
    "# Check the new descriptive statitics.\n",
    "bike.describe()"
   ]
  },
  {
   "cell_type": "code",
   "execution_count": 156,
   "metadata": {},
   "outputs": [],
   "source": [
    "#6. Conver the birth_year to Age.\n",
    "bike['member_age']=2018-bike['member_birth_year']\n",
    "bike.drop(['member_birth_year'], axis=1, inplace=True)"
   ]
  },
  {
   "cell_type": "code",
   "execution_count": 162,
   "metadata": {},
   "outputs": [
    {
     "data": {
      "text/plain": [
       "count    1.739999e+06\n",
       "mean     3.573128e+01\n",
       "std      1.021840e+01\n",
       "min      1.800000e+01\n",
       "25%      2.800000e+01\n",
       "50%      3.300000e+01\n",
       "75%      4.100000e+01\n",
       "max      7.800000e+01\n",
       "Name: member_age, dtype: float64"
      ]
     },
     "execution_count": 162,
     "metadata": {},
     "output_type": "execute_result"
    }
   ],
   "source": [
    "bike.member_age.describe()"
   ]
  },
  {
   "cell_type": "code",
   "execution_count": 165,
   "metadata": {},
   "outputs": [],
   "source": [
    "bins=[18,35,55,75]\n",
    "\n",
    "bike['age_group']=pd.cut(bike.member_age, bins, labels=['18~35','36~55','56~75'])"
   ]
  },
  {
   "cell_type": "code",
   "execution_count": 166,
   "metadata": {},
   "outputs": [
    {
     "data": {
      "text/html": [
       "<div>\n",
       "<style scoped>\n",
       "    .dataframe tbody tr th:only-of-type {\n",
       "        vertical-align: middle;\n",
       "    }\n",
       "\n",
       "    .dataframe tbody tr th {\n",
       "        vertical-align: top;\n",
       "    }\n",
       "\n",
       "    .dataframe thead th {\n",
       "        text-align: right;\n",
       "    }\n",
       "</style>\n",
       "<table border=\"1\" class=\"dataframe\">\n",
       "  <thead>\n",
       "    <tr style=\"text-align: right;\">\n",
       "      <th></th>\n",
       "      <th>start_time</th>\n",
       "      <th>end_time</th>\n",
       "      <th>start_station_id</th>\n",
       "      <th>start_station_name</th>\n",
       "      <th>start_station_latitude</th>\n",
       "      <th>start_station_longitude</th>\n",
       "      <th>end_station_id</th>\n",
       "      <th>end_station_name</th>\n",
       "      <th>end_station_latitude</th>\n",
       "      <th>end_station_longitude</th>\n",
       "      <th>bike_id</th>\n",
       "      <th>user_type</th>\n",
       "      <th>member_gender</th>\n",
       "      <th>duration_mins</th>\n",
       "      <th>member_age</th>\n",
       "      <th>age_group</th>\n",
       "    </tr>\n",
       "  </thead>\n",
       "  <tbody>\n",
       "    <tr>\n",
       "      <th>0</th>\n",
       "      <td>2018-02-28 23:59:47.097</td>\n",
       "      <td>2018-03-01 00:09:45.187</td>\n",
       "      <td>284.0</td>\n",
       "      <td>Yerba Buena Center for the Arts (Howard St at ...</td>\n",
       "      <td>37.784872</td>\n",
       "      <td>-122.400876</td>\n",
       "      <td>114.0</td>\n",
       "      <td>Rhode Island St at 17th St</td>\n",
       "      <td>37.764478</td>\n",
       "      <td>-122.402570</td>\n",
       "      <td>1035</td>\n",
       "      <td>Subscriber</td>\n",
       "      <td>Male</td>\n",
       "      <td>9</td>\n",
       "      <td>30.0</td>\n",
       "      <td>18~35</td>\n",
       "    </tr>\n",
       "    <tr>\n",
       "      <th>1</th>\n",
       "      <td>2018-02-28 23:21:16.495</td>\n",
       "      <td>2018-02-28 23:36:59.974</td>\n",
       "      <td>6.0</td>\n",
       "      <td>The Embarcadero at Sansome St</td>\n",
       "      <td>37.804770</td>\n",
       "      <td>-122.403234</td>\n",
       "      <td>324.0</td>\n",
       "      <td>Union Square (Powell St at Post St)</td>\n",
       "      <td>37.788300</td>\n",
       "      <td>-122.408531</td>\n",
       "      <td>1673</td>\n",
       "      <td>Customer</td>\n",
       "      <td>Male</td>\n",
       "      <td>15</td>\n",
       "      <td>31.0</td>\n",
       "      <td>18~35</td>\n",
       "    </tr>\n",
       "    <tr>\n",
       "      <th>4</th>\n",
       "      <td>2018-02-28 23:15:12.858</td>\n",
       "      <td>2018-02-28 23:29:58.608</td>\n",
       "      <td>308.0</td>\n",
       "      <td>San Pedro Square</td>\n",
       "      <td>37.336802</td>\n",
       "      <td>-121.894090</td>\n",
       "      <td>297.0</td>\n",
       "      <td>Locust St at Grant St</td>\n",
       "      <td>37.322980</td>\n",
       "      <td>-121.887931</td>\n",
       "      <td>1839</td>\n",
       "      <td>Subscriber</td>\n",
       "      <td>Female</td>\n",
       "      <td>14</td>\n",
       "      <td>42.0</td>\n",
       "      <td>36~55</td>\n",
       "    </tr>\n",
       "    <tr>\n",
       "      <th>5</th>\n",
       "      <td>2018-02-28 23:14:19.170</td>\n",
       "      <td>2018-02-28 23:29:40.437</td>\n",
       "      <td>312.0</td>\n",
       "      <td>San Jose Diridon Station</td>\n",
       "      <td>37.329732</td>\n",
       "      <td>-121.901782</td>\n",
       "      <td>288.0</td>\n",
       "      <td>Mission St at 1st St</td>\n",
       "      <td>37.350964</td>\n",
       "      <td>-121.902016</td>\n",
       "      <td>2656</td>\n",
       "      <td>Customer</td>\n",
       "      <td>Male</td>\n",
       "      <td>15</td>\n",
       "      <td>21.0</td>\n",
       "      <td>18~35</td>\n",
       "    </tr>\n",
       "    <tr>\n",
       "      <th>6</th>\n",
       "      <td>2018-02-28 23:21:49.274</td>\n",
       "      <td>2018-02-28 23:26:27.222</td>\n",
       "      <td>316.0</td>\n",
       "      <td>San Salvador St at 1st St</td>\n",
       "      <td>37.330165</td>\n",
       "      <td>-121.885831</td>\n",
       "      <td>310.0</td>\n",
       "      <td>San Fernando St at 4th St</td>\n",
       "      <td>37.335885</td>\n",
       "      <td>-121.885660</td>\n",
       "      <td>1616</td>\n",
       "      <td>Subscriber</td>\n",
       "      <td>Female</td>\n",
       "      <td>4</td>\n",
       "      <td>61.0</td>\n",
       "      <td>56~75</td>\n",
       "    </tr>\n",
       "  </tbody>\n",
       "</table>\n",
       "</div>"
      ],
      "text/plain": [
       "               start_time                end_time  start_station_id  \\\n",
       "0 2018-02-28 23:59:47.097 2018-03-01 00:09:45.187             284.0   \n",
       "1 2018-02-28 23:21:16.495 2018-02-28 23:36:59.974               6.0   \n",
       "4 2018-02-28 23:15:12.858 2018-02-28 23:29:58.608             308.0   \n",
       "5 2018-02-28 23:14:19.170 2018-02-28 23:29:40.437             312.0   \n",
       "6 2018-02-28 23:21:49.274 2018-02-28 23:26:27.222             316.0   \n",
       "\n",
       "                                  start_station_name  start_station_latitude  \\\n",
       "0  Yerba Buena Center for the Arts (Howard St at ...               37.784872   \n",
       "1                      The Embarcadero at Sansome St               37.804770   \n",
       "4                                   San Pedro Square               37.336802   \n",
       "5                           San Jose Diridon Station               37.329732   \n",
       "6                          San Salvador St at 1st St               37.330165   \n",
       "\n",
       "   start_station_longitude  end_station_id  \\\n",
       "0              -122.400876           114.0   \n",
       "1              -122.403234           324.0   \n",
       "4              -121.894090           297.0   \n",
       "5              -121.901782           288.0   \n",
       "6              -121.885831           310.0   \n",
       "\n",
       "                      end_station_name  end_station_latitude  \\\n",
       "0           Rhode Island St at 17th St             37.764478   \n",
       "1  Union Square (Powell St at Post St)             37.788300   \n",
       "4                Locust St at Grant St             37.322980   \n",
       "5                 Mission St at 1st St             37.350964   \n",
       "6            San Fernando St at 4th St             37.335885   \n",
       "\n",
       "   end_station_longitude  bike_id   user_type member_gender  duration_mins  \\\n",
       "0            -122.402570     1035  Subscriber          Male              9   \n",
       "1            -122.408531     1673    Customer          Male             15   \n",
       "4            -121.887931     1839  Subscriber        Female             14   \n",
       "5            -121.902016     2656    Customer          Male             15   \n",
       "6            -121.885660     1616  Subscriber        Female              4   \n",
       "\n",
       "   member_age age_group  \n",
       "0        30.0     18~35  \n",
       "1        31.0     18~35  \n",
       "4        42.0     36~55  \n",
       "5        21.0     18~35  \n",
       "6        61.0     56~75  "
      ]
     },
     "execution_count": 166,
     "metadata": {},
     "output_type": "execute_result"
    }
   ],
   "source": [
    "bike.head()"
   ]
  },
  {
   "cell_type": "code",
   "execution_count": 167,
   "metadata": {},
   "outputs": [],
   "source": [
    "# Save the clean dataset in to bike_new.csv\n",
    "bike.to_csv('bike_new.csv')"
   ]
  },
  {
   "cell_type": "markdown",
   "metadata": {},
   "source": [
    "## Data Visualization and Analysis <a name=\"v\"></a>"
   ]
  },
  {
   "cell_type": "code",
   "execution_count": 205,
   "metadata": {},
   "outputs": [
    {
     "data": {
      "image/png": "[encoded data removed]",
      "text/plain": [
       "<Figure size 432x288 with 1 Axes>"
      ]
     },
     "metadata": {
      "needs_background": "light"
     },
     "output_type": "display_data"
    }
   ],
   "source": [
    "# User Information\n",
    "n_points=bike.shape[0]\n",
    "max_count=bike.member_gender.value_counts().max()\n",
    "max_prop=max_count/n_points\n",
    "\n",
    "# Generate tick mark locations and names\n",
    "tick_props=np.arange(0, max_prop, 0.2)\n",
    "tick_names=['{:0.2f}'.format(v) for v in tick_props]\n",
    "\n",
    "# create plot\n",
    "\n",
    "sns.countplot(data=bike, x='member_gender')\n",
    "plt.yticks(tick_props*n_points, tick_names)\n",
    "plt.ylabel('proportion')\n",
    "plt.xlabel('gender')\n",
    "plt.title('Proportion of each gender')\n",
    "\n",
    "\n",
    "# Add annotation\n",
    "gender_count=bike.member_gender.value_counts()\n",
    "locs, labels=plt.xticks()\n",
    "\n",
    "for loc, label in zip(locs, labels):\n",
    "    count = gender_count[label.get_text()] \n",
    "    pct_string = '{:0.1f}%'.format(100*count/n_points)\n",
    "\n",
    "    # print the annotation just below the top of the bar\n",
    "    plt.text(loc, count, pct_string, ha = 'center', color = 'black')"
   ]
  },
  {
   "cell_type": "markdown",
   "metadata": {},
   "source": [
    "74.2% of users are male and 24.3% of users are female, others only account for 1.5%."
   ]
  },
  {
   "cell_type": "code",
   "execution_count": 198,
   "metadata": {},
   "outputs": [
    {
     "data": {
      "text/plain": [
       "<matplotlib.axes._subplots.AxesSubplot at 0x1a72b4a410>"
      ]
     },
     "execution_count": 198,
     "metadata": {},
     "output_type": "execute_result"
    },
    {
     "data": {
      "image/png": "[encoded data removed]",
      "text/plain": [
       "<Figure size 432x288 with 1 Axes>"
      ]
     },
     "metadata": {
      "needs_background": "light"
     },
     "output_type": "display_data"
    }
   ],
   "source": [
    "sns.countplot(data=bike, x='member_gender', hue='user_type')"
   ]
  },
  {
   "cell_type": "markdown",
   "metadata": {},
   "source": [
    "Here, we can conclude in each gender, the subscriber take a big proportion, so we need to take more effort to the user experience for subscibers."
   ]
  },
  {
   "cell_type": "code",
   "execution_count": 158,
   "metadata": {},
   "outputs": [
    {
     "data": {
      "text/plain": [
       "Text(0.5, 1.0, 'Frequency of durations')"
      ]
     },
     "execution_count": 158,
     "metadata": {},
     "output_type": "execute_result"
    },
    {
     "data": {
      "image/png": "[encoded data removed]",
      "text/plain": [
       "<Figure size 432x288 with 1 Axes>"
      ]
     },
     "metadata": {
      "needs_background": "light"
     },
     "output_type": "display_data"
    }
   ],
   "source": [
    "## 1. Check the distribution of duration minutes\n",
    "bins=np.arange(0, bike.duration_mins.max()+5, 5)\n",
    "\n",
    "plt.hist(bike.duration_mins, bins=bins)\n",
    "plt.xlim(0,100)\n",
    "plt.xlabel(\"Duration in minutes\")\n",
    "plt.title(\"Frequency of durations\")"
   ]
  },
  {
   "cell_type": "markdown",
   "metadata": {},
   "source": [
    "In this image, we can see that the duration of most users are less then 20 mins."
   ]
  },
  {
   "cell_type": "code",
   "execution_count": 174,
   "metadata": {
    "scrolled": true
   },
   "outputs": [
    {
     "data": {
      "text/plain": [
       "Text(0.5, 1.0, 'Boxplot for duration by user_type')"
      ]
     },
     "execution_count": 174,
     "metadata": {},
     "output_type": "execute_result"
    },
    {
     "data": {
      "image/png": "[encoded data removed]",
      "text/plain": [
       "<Figure size 432x288 with 1 Axes>"
      ]
     },
     "metadata": {
      "needs_background": "light"
     },
     "output_type": "display_data"
    }
   ],
   "source": [
    "## Duration for different user type\n",
    "sns.boxplot(data=bike, x='user_type',y='duration_mins')\n",
    "plt.title(\"Boxplot for duration by user_type\")"
   ]
  },
  {
   "cell_type": "markdown",
   "metadata": {},
   "source": [
    "The duration median of customer is higher than duration median for subscriber. In general, customer has longer duration for each trip than subscriber. For the records whose duration is less than 75, the median of duration for customer is around 15 mins whereas the median of duration for subscriber is less than 10 mins. "
   ]
  },
  {
   "cell_type": "code",
   "execution_count": 176,
   "metadata": {},
   "outputs": [
    {
     "data": {
      "text/plain": [
       "<matplotlib.axes._subplots.AxesSubplot at 0x1a60eba450>"
      ]
     },
     "execution_count": 176,
     "metadata": {},
     "output_type": "execute_result"
    },
    {
     "data": {
      "image/png": "[encoded data removed]",
      "text/plain": [
       "<Figure size 432x288 with 1 Axes>"
      ]
     },
     "metadata": {
      "needs_background": "light"
     },
     "output_type": "display_data"
    }
   ],
   "source": [
    "# Check the duration for different gender\n",
    "sns.boxplot(data=bike, x='member_gender', y='duration_mins')"
   ]
  },
  {
   "cell_type": "markdown",
   "metadata": {},
   "source": [
    "In this image, we can see the median duration for female is higher than other gender."
   ]
  },
  {
   "cell_type": "code",
   "execution_count": 180,
   "metadata": {},
   "outputs": [
    {
     "data": {
      "text/plain": [
       "<matplotlib.axes._subplots.AxesSubplot at 0x1a70c9a310>"
      ]
     },
     "execution_count": 180,
     "metadata": {},
     "output_type": "execute_result"
    },
    {
     "data": {
      "image/png": "[encoded data removed]",
      "text/plain": [
       "<Figure size 432x288 with 1 Axes>"
      ]
     },
     "metadata": {
      "needs_background": "light"
     },
     "output_type": "display_data"
    }
   ],
   "source": [
    "# Check the duration for different age group\n",
    "sns.barplot(data=bike, x='age_group', y='duration_mins')"
   ]
  },
  {
   "cell_type": "raw",
   "metadata": {},
   "source": [
    "We can see that 56~75 age group has the higest duration, and then 18~35 group; 36~55 age group has the lowest average duration for each trip."
   ]
  },
  {
   "cell_type": "code",
   "execution_count": null,
   "metadata": {},
   "outputs": [],
   "source": []
  }
 ],
 "metadata": {
  "kernelspec": {
   "display_name": "Python 3",
   "language": "python",
   "name": "python3"
  },
  "language_info": {
   "codemirror_mode": {
    "name": "ipython",
    "version": 3
   },
   "file_extension": ".py",
   "mimetype": "text/x-python",
   "name": "python",
   "nbconvert_exporter": "python",
   "pygments_lexer": "ipython3",
   "version": "3.7.6"
  }
 },
 "nbformat": 4,
 "nbformat_minor": 4
}
