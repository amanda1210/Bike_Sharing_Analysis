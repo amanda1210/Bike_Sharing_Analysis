{
 "cells": [
  {
   "cell_type": "markdown",
   "metadata": {
    "slideshow": {
     "slide_type": "slide"
    }
   },
   "source": [
    "# Ford GoBike Data Visualization and Analysis\n",
    "\n",
    "### Introduction\n",
    "> This project is analyzing the Ford GoBike system data from 2017-1 to 2018-10. The goal of the project is to explore some insights about the trip and user and help team make the decision about the operations and marketing strategy.\n",
    ">\n",
    "\n",
    "### Table of Content\n",
    "\n",
    "1. [Questions](#q)\n",
    "2. [Data Wrangling](#w)\n",
    "3. [Data Visualization](#v)\n",
    "4. [Insights and Conclusions](#i)"
   ]
  },
  {
   "cell_type": "markdown",
   "metadata": {
    "slideshow": {
     "slide_type": "slide"
    }
   },
   "source": [
    "## 1. Questions <a name=\"q\"></a>\n",
    "1. What's the demographic of users?\n",
    "2. What's the most popular station to pick up and return the bike?\n",
    "3. What's the use pattern of rides."
   ]
  },
  {
   "cell_type": "markdown",
   "metadata": {
    "slideshow": {
     "slide_type": "slide"
    }
   },
   "source": [
    "## 2. Data Wrangling <a name=\"w\"></a>"
   ]
  },
  {
   "cell_type": "code",
   "execution_count": 1,
   "metadata": {
    "slideshow": {
     "slide_type": "skip"
    }
   },
   "outputs": [],
   "source": [
    "## Import library\n",
    "import pandas as pd\n",
    "import numpy as np\n",
    "import seaborn as sns\n",
    "import matplotlib.pyplot as plt\n",
    "import os\n",
    "\n",
    "%matplotlib inline"
   ]
  },
  {
   "cell_type": "code",
   "execution_count": 2,
   "metadata": {
    "slideshow": {
     "slide_type": "skip"
    }
   },
   "outputs": [],
   "source": [
    "# Load the 10 csv file in the same folder.\n",
    "import re\n",
    "\n",
    "path = '/Users/amandaxiao/Desktop/Udacity/Projects/Project_5' \n",
    "files = [f for f in os.listdir(path) if re.match(r'[0-9]+.*\\.csv', f)]\n",
    "\n",
    "df=pd.DataFrame()\n",
    "\n",
    "for file in files:\n",
    "    a=pd.read_csv(file, )\n",
    "    df=df.append(a)\n",
    "    "
   ]
  },
  {
   "cell_type": "code",
   "execution_count": 3,
   "metadata": {
    "slideshow": {
     "slide_type": "skip"
    }
   },
   "outputs": [],
   "source": [
    "# Reset index\n",
    "bike=df.reset_index(drop=True)"
   ]
  },
  {
   "cell_type": "code",
   "execution_count": 4,
   "metadata": {
    "scrolled": false,
    "slideshow": {
     "slide_type": "skip"
    }
   },
   "outputs": [
    {
     "name": "stdout",
     "output_type": "stream",
     "text": [
      "There are 1916465 rows and 16 columns in the dataset\n"
     ]
    }
   ],
   "source": [
    "# Check the rows and columns in the dataset.\n",
    "bike.shape\n",
    "print(\"There are {a} rows and {b} columns in the dataset\".format(a=df.shape[0], b=df.shape[1]))"
   ]
  },
  {
   "cell_type": "code",
   "execution_count": 5,
   "metadata": {
    "slideshow": {
     "slide_type": "subslide"
    }
   },
   "outputs": [
    {
     "data": {
      "text/plain": [
       "duration_sec                 int64\n",
       "start_time                  object\n",
       "end_time                    object\n",
       "start_station_id           float64\n",
       "start_station_name          object\n",
       "start_station_latitude     float64\n",
       "start_station_longitude    float64\n",
       "end_station_id             float64\n",
       "end_station_name            object\n",
       "end_station_latitude       float64\n",
       "end_station_longitude      float64\n",
       "bike_id                      int64\n",
       "user_type                   object\n",
       "member_birth_year          float64\n",
       "member_gender               object\n",
       "bike_share_for_all_trip     object\n",
       "dtype: object"
      ]
     },
     "execution_count": 5,
     "metadata": {},
     "output_type": "execute_result"
    }
   ],
   "source": [
    "# Check the datatype of df\n",
    "bike.dtypes"
   ]
  },
  {
   "cell_type": "code",
   "execution_count": 6,
   "metadata": {
    "slideshow": {
     "slide_type": "skip"
    }
   },
   "outputs": [
    {
     "data": {
      "text/plain": [
       "duration_sec                    0\n",
       "start_time                      0\n",
       "end_time                        0\n",
       "start_station_id             9739\n",
       "start_station_name           9739\n",
       "start_station_latitude          0\n",
       "start_station_longitude         0\n",
       "end_station_id               9739\n",
       "end_station_name             9739\n",
       "end_station_latitude            0\n",
       "end_station_longitude           0\n",
       "bike_id                         0\n",
       "user_type                       0\n",
       "member_birth_year          158496\n",
       "member_gender              158080\n",
       "bike_share_for_all_trip    519700\n",
       "dtype: int64"
      ]
     },
     "execution_count": 6,
     "metadata": {},
     "output_type": "execute_result"
    }
   ],
   "source": [
    "bike.isnull().sum()"
   ]
  },
  {
   "cell_type": "markdown",
   "metadata": {
    "slideshow": {
     "slide_type": "skip"
    }
   },
   "source": [
    "There are 150K missing value in the birth_year and gender which doesn't account for a large portion of the dataset."
   ]
  },
  {
   "cell_type": "code",
   "execution_count": 7,
   "metadata": {
    "slideshow": {
     "slide_type": "subslide"
    }
   },
   "outputs": [
    {
     "data": {
      "text/html": [
       "<div>\n",
       "<style scoped>\n",
       "    .dataframe tbody tr th:only-of-type {\n",
       "        vertical-align: middle;\n",
       "    }\n",
       "\n",
       "    .dataframe tbody tr th {\n",
       "        vertical-align: top;\n",
       "    }\n",
       "\n",
       "    .dataframe thead th {\n",
       "        text-align: right;\n",
       "    }\n",
       "</style>\n",
       "<table border=\"1\" class=\"dataframe\">\n",
       "  <thead>\n",
       "    <tr style=\"text-align: right;\">\n",
       "      <th></th>\n",
       "      <th>duration_sec</th>\n",
       "      <th>start_station_id</th>\n",
       "      <th>start_station_latitude</th>\n",
       "      <th>start_station_longitude</th>\n",
       "      <th>end_station_id</th>\n",
       "      <th>end_station_latitude</th>\n",
       "      <th>end_station_longitude</th>\n",
       "      <th>bike_id</th>\n",
       "      <th>member_birth_year</th>\n",
       "    </tr>\n",
       "  </thead>\n",
       "  <tbody>\n",
       "    <tr>\n",
       "      <th>count</th>\n",
       "      <td>1.916465e+06</td>\n",
       "      <td>1.906726e+06</td>\n",
       "      <td>1.916465e+06</td>\n",
       "      <td>1.916465e+06</td>\n",
       "      <td>1.906726e+06</td>\n",
       "      <td>1.916465e+06</td>\n",
       "      <td>1.916465e+06</td>\n",
       "      <td>1.916465e+06</td>\n",
       "      <td>1.757969e+06</td>\n",
       "    </tr>\n",
       "    <tr>\n",
       "      <th>mean</th>\n",
       "      <td>9.412173e+02</td>\n",
       "      <td>1.110024e+02</td>\n",
       "      <td>3.776831e+01</td>\n",
       "      <td>-1.223532e+02</td>\n",
       "      <td>1.091323e+02</td>\n",
       "      <td>3.776845e+01</td>\n",
       "      <td>-1.223527e+02</td>\n",
       "      <td>2.073052e+03</td>\n",
       "      <td>1.982196e+03</td>\n",
       "    </tr>\n",
       "    <tr>\n",
       "      <th>std</th>\n",
       "      <td>2.800558e+03</td>\n",
       "      <td>9.533863e+01</td>\n",
       "      <td>1.005044e-01</td>\n",
       "      <td>1.609312e-01</td>\n",
       "      <td>9.515778e+01</td>\n",
       "      <td>1.004009e-01</td>\n",
       "      <td>1.605616e-01</td>\n",
       "      <td>1.179333e+03</td>\n",
       "      <td>1.053493e+01</td>\n",
       "    </tr>\n",
       "    <tr>\n",
       "      <th>min</th>\n",
       "      <td>6.100000e+01</td>\n",
       "      <td>3.000000e+00</td>\n",
       "      <td>3.726331e+01</td>\n",
       "      <td>-1.224737e+02</td>\n",
       "      <td>3.000000e+00</td>\n",
       "      <td>3.726331e+01</td>\n",
       "      <td>-1.224737e+02</td>\n",
       "      <td>1.000000e+01</td>\n",
       "      <td>1.881000e+03</td>\n",
       "    </tr>\n",
       "    <tr>\n",
       "      <th>25%</th>\n",
       "      <td>3.600000e+02</td>\n",
       "      <td>3.000000e+01</td>\n",
       "      <td>3.777166e+01</td>\n",
       "      <td>-1.224114e+02</td>\n",
       "      <td>2.800000e+01</td>\n",
       "      <td>3.777176e+01</td>\n",
       "      <td>-1.224094e+02</td>\n",
       "      <td>1.079000e+03</td>\n",
       "      <td>1.977000e+03</td>\n",
       "    </tr>\n",
       "    <tr>\n",
       "      <th>50%</th>\n",
       "      <td>5.690000e+02</td>\n",
       "      <td>8.100000e+01</td>\n",
       "      <td>3.778165e+01</td>\n",
       "      <td>-1.223974e+02</td>\n",
       "      <td>7.900000e+01</td>\n",
       "      <td>3.778175e+01</td>\n",
       "      <td>-1.223974e+02</td>\n",
       "      <td>2.116000e+03</td>\n",
       "      <td>1.985000e+03</td>\n",
       "    </tr>\n",
       "    <tr>\n",
       "      <th>75%</th>\n",
       "      <td>8.960000e+02</td>\n",
       "      <td>1.760000e+02</td>\n",
       "      <td>3.779539e+01</td>\n",
       "      <td>-1.222948e+02</td>\n",
       "      <td>1.760000e+02</td>\n",
       "      <td>3.779539e+01</td>\n",
       "      <td>-1.222948e+02</td>\n",
       "      <td>3.020000e+03</td>\n",
       "      <td>1.990000e+03</td>\n",
       "    </tr>\n",
       "    <tr>\n",
       "      <th>max</th>\n",
       "      <td>8.636900e+04</td>\n",
       "      <td>3.740000e+02</td>\n",
       "      <td>4.551000e+01</td>\n",
       "      <td>-7.357000e+01</td>\n",
       "      <td>3.740000e+02</td>\n",
       "      <td>4.551000e+01</td>\n",
       "      <td>-7.357000e+01</td>\n",
       "      <td>4.466000e+03</td>\n",
       "      <td>2.000000e+03</td>\n",
       "    </tr>\n",
       "  </tbody>\n",
       "</table>\n",
       "</div>"
      ],
      "text/plain": [
       "       duration_sec  start_station_id  start_station_latitude  \\\n",
       "count  1.916465e+06      1.906726e+06            1.916465e+06   \n",
       "mean   9.412173e+02      1.110024e+02            3.776831e+01   \n",
       "std    2.800558e+03      9.533863e+01            1.005044e-01   \n",
       "min    6.100000e+01      3.000000e+00            3.726331e+01   \n",
       "25%    3.600000e+02      3.000000e+01            3.777166e+01   \n",
       "50%    5.690000e+02      8.100000e+01            3.778165e+01   \n",
       "75%    8.960000e+02      1.760000e+02            3.779539e+01   \n",
       "max    8.636900e+04      3.740000e+02            4.551000e+01   \n",
       "\n",
       "       start_station_longitude  end_station_id  end_station_latitude  \\\n",
       "count             1.916465e+06    1.906726e+06          1.916465e+06   \n",
       "mean             -1.223532e+02    1.091323e+02          3.776845e+01   \n",
       "std               1.609312e-01    9.515778e+01          1.004009e-01   \n",
       "min              -1.224737e+02    3.000000e+00          3.726331e+01   \n",
       "25%              -1.224114e+02    2.800000e+01          3.777176e+01   \n",
       "50%              -1.223974e+02    7.900000e+01          3.778175e+01   \n",
       "75%              -1.222948e+02    1.760000e+02          3.779539e+01   \n",
       "max              -7.357000e+01    3.740000e+02          4.551000e+01   \n",
       "\n",
       "       end_station_longitude       bike_id  member_birth_year  \n",
       "count           1.916465e+06  1.916465e+06       1.757969e+06  \n",
       "mean           -1.223527e+02  2.073052e+03       1.982196e+03  \n",
       "std             1.605616e-01  1.179333e+03       1.053493e+01  \n",
       "min            -1.224737e+02  1.000000e+01       1.881000e+03  \n",
       "25%            -1.224094e+02  1.079000e+03       1.977000e+03  \n",
       "50%            -1.223974e+02  2.116000e+03       1.985000e+03  \n",
       "75%            -1.222948e+02  3.020000e+03       1.990000e+03  \n",
       "max            -7.357000e+01  4.466000e+03       2.000000e+03  "
      ]
     },
     "execution_count": 7,
     "metadata": {},
     "output_type": "execute_result"
    }
   ],
   "source": [
    "bike.describe()"
   ]
  },
  {
   "cell_type": "markdown",
   "metadata": {
    "slideshow": {
     "slide_type": "subslide"
    }
   },
   "source": [
    "**Data Issues**\n",
    "1. Bike_share_for all_trip is not very related to the analysis so I will remove it.\n",
    "2. The data type of start time and end time is not correct.\n",
    "3. Missing value in gender, birth_year, station_id and station name.\n",
    "4. duration sec is not easy to understand so need to convert into minute.\n",
    "5. There are some outliers in duration_sec and member_birth_year.\n",
    "6. Birth year is not very understandable so we can transform it into age."
   ]
  },
  {
   "cell_type": "markdown",
   "metadata": {
    "slideshow": {
     "slide_type": "skip"
    }
   },
   "source": [
    "### Clean"
   ]
  },
  {
   "cell_type": "code",
   "execution_count": 8,
   "metadata": {
    "slideshow": {
     "slide_type": "skip"
    }
   },
   "outputs": [],
   "source": [
    "# 1. Delete bike_share_for_all_trip column\n",
    "bike.drop(['bike_share_for_all_trip'], axis=1, inplace=True)"
   ]
  },
  {
   "cell_type": "code",
   "execution_count": 9,
   "metadata": {
    "slideshow": {
     "slide_type": "skip"
    }
   },
   "outputs": [],
   "source": [
    "# 2. change the data type of start time and end time\n",
    "bike.start_time=pd.to_datetime(bike.start_time)\n",
    "bike.end_time=pd.to_datetime(bike.end_time)"
   ]
  },
  {
   "cell_type": "code",
   "execution_count": 10,
   "metadata": {
    "slideshow": {
     "slide_type": "skip"
    }
   },
   "outputs": [
    {
     "data": {
      "text/plain": [
       "duration_sec                        int64\n",
       "start_time                 datetime64[ns]\n",
       "end_time                   datetime64[ns]\n",
       "start_station_id                  float64\n",
       "start_station_name                 object\n",
       "start_station_latitude            float64\n",
       "start_station_longitude           float64\n",
       "end_station_id                    float64\n",
       "end_station_name                   object\n",
       "end_station_latitude              float64\n",
       "end_station_longitude             float64\n",
       "bike_id                             int64\n",
       "user_type                          object\n",
       "member_birth_year                 float64\n",
       "member_gender                      object\n",
       "dtype: object"
      ]
     },
     "execution_count": 10,
     "metadata": {},
     "output_type": "execute_result"
    }
   ],
   "source": [
    "# Check new data type\n",
    "bike.dtypes"
   ]
  },
  {
   "cell_type": "code",
   "execution_count": 11,
   "metadata": {
    "slideshow": {
     "slide_type": "skip"
    }
   },
   "outputs": [],
   "source": [
    "# 3. Drop missing value\n",
    "bike.dropna(inplace=True)"
   ]
  },
  {
   "cell_type": "code",
   "execution_count": 12,
   "metadata": {
    "slideshow": {
     "slide_type": "skip"
    }
   },
   "outputs": [
    {
     "data": {
      "text/plain": [
       "duration_sec               0\n",
       "start_time                 0\n",
       "end_time                   0\n",
       "start_station_id           0\n",
       "start_station_name         0\n",
       "start_station_latitude     0\n",
       "start_station_longitude    0\n",
       "end_station_id             0\n",
       "end_station_name           0\n",
       "end_station_latitude       0\n",
       "end_station_longitude      0\n",
       "bike_id                    0\n",
       "user_type                  0\n",
       "member_birth_year          0\n",
       "member_gender              0\n",
       "dtype: int64"
      ]
     },
     "execution_count": 12,
     "metadata": {},
     "output_type": "execute_result"
    }
   ],
   "source": [
    "# Check are there any missing value\n",
    "bike.isnull().sum()"
   ]
  },
  {
   "cell_type": "code",
   "execution_count": 13,
   "metadata": {
    "slideshow": {
     "slide_type": "skip"
    }
   },
   "outputs": [],
   "source": [
    "# 4. Change the seconds to minutes\n",
    "bike['duration_mins']=bike['duration_sec']/60\n",
    "bike.duration_mins=bike.duration_mins.astype(int)"
   ]
  },
  {
   "cell_type": "code",
   "execution_count": 14,
   "metadata": {
    "slideshow": {
     "slide_type": "skip"
    }
   },
   "outputs": [],
   "source": [
    "#Delete duration_sec column\n",
    "bike.drop(['duration_sec'], axis=1, inplace=True)"
   ]
  },
  {
   "cell_type": "code",
   "execution_count": 15,
   "metadata": {
    "slideshow": {
     "slide_type": "skip"
    }
   },
   "outputs": [
    {
     "data": {
      "text/html": [
       "<div>\n",
       "<style scoped>\n",
       "    .dataframe tbody tr th:only-of-type {\n",
       "        vertical-align: middle;\n",
       "    }\n",
       "\n",
       "    .dataframe tbody tr th {\n",
       "        vertical-align: top;\n",
       "    }\n",
       "\n",
       "    .dataframe thead th {\n",
       "        text-align: right;\n",
       "    }\n",
       "</style>\n",
       "<table border=\"1\" class=\"dataframe\">\n",
       "  <thead>\n",
       "    <tr style=\"text-align: right;\">\n",
       "      <th></th>\n",
       "      <th>start_time</th>\n",
       "      <th>end_time</th>\n",
       "      <th>start_station_id</th>\n",
       "      <th>start_station_name</th>\n",
       "      <th>start_station_latitude</th>\n",
       "      <th>start_station_longitude</th>\n",
       "      <th>end_station_id</th>\n",
       "      <th>end_station_name</th>\n",
       "      <th>end_station_latitude</th>\n",
       "      <th>end_station_longitude</th>\n",
       "      <th>bike_id</th>\n",
       "      <th>user_type</th>\n",
       "      <th>member_birth_year</th>\n",
       "      <th>member_gender</th>\n",
       "      <th>duration_mins</th>\n",
       "    </tr>\n",
       "  </thead>\n",
       "  <tbody>\n",
       "    <tr>\n",
       "      <th>0</th>\n",
       "      <td>2018-02-28 23:59:47.097</td>\n",
       "      <td>2018-03-01 00:09:45.187</td>\n",
       "      <td>284.0</td>\n",
       "      <td>Yerba Buena Center for the Arts (Howard St at ...</td>\n",
       "      <td>37.784872</td>\n",
       "      <td>-122.400876</td>\n",
       "      <td>114.0</td>\n",
       "      <td>Rhode Island St at 17th St</td>\n",
       "      <td>37.764478</td>\n",
       "      <td>-122.402570</td>\n",
       "      <td>1035</td>\n",
       "      <td>Subscriber</td>\n",
       "      <td>1988.0</td>\n",
       "      <td>Male</td>\n",
       "      <td>9</td>\n",
       "    </tr>\n",
       "    <tr>\n",
       "      <th>1</th>\n",
       "      <td>2018-02-28 23:21:16.495</td>\n",
       "      <td>2018-02-28 23:36:59.974</td>\n",
       "      <td>6.0</td>\n",
       "      <td>The Embarcadero at Sansome St</td>\n",
       "      <td>37.804770</td>\n",
       "      <td>-122.403234</td>\n",
       "      <td>324.0</td>\n",
       "      <td>Union Square (Powell St at Post St)</td>\n",
       "      <td>37.788300</td>\n",
       "      <td>-122.408531</td>\n",
       "      <td>1673</td>\n",
       "      <td>Customer</td>\n",
       "      <td>1987.0</td>\n",
       "      <td>Male</td>\n",
       "      <td>15</td>\n",
       "    </tr>\n",
       "  </tbody>\n",
       "</table>\n",
       "</div>"
      ],
      "text/plain": [
       "               start_time                end_time  start_station_id  \\\n",
       "0 2018-02-28 23:59:47.097 2018-03-01 00:09:45.187             284.0   \n",
       "1 2018-02-28 23:21:16.495 2018-02-28 23:36:59.974               6.0   \n",
       "\n",
       "                                  start_station_name  start_station_latitude  \\\n",
       "0  Yerba Buena Center for the Arts (Howard St at ...               37.784872   \n",
       "1                      The Embarcadero at Sansome St               37.804770   \n",
       "\n",
       "   start_station_longitude  end_station_id  \\\n",
       "0              -122.400876           114.0   \n",
       "1              -122.403234           324.0   \n",
       "\n",
       "                      end_station_name  end_station_latitude  \\\n",
       "0           Rhode Island St at 17th St             37.764478   \n",
       "1  Union Square (Powell St at Post St)             37.788300   \n",
       "\n",
       "   end_station_longitude  bike_id   user_type  member_birth_year  \\\n",
       "0            -122.402570     1035  Subscriber             1988.0   \n",
       "1            -122.408531     1673    Customer             1987.0   \n",
       "\n",
       "  member_gender  duration_mins  \n",
       "0          Male              9  \n",
       "1          Male             15  "
      ]
     },
     "execution_count": 15,
     "metadata": {},
     "output_type": "execute_result"
    }
   ],
   "source": [
    "# Check the new dataset\n",
    "bike.head(2)"
   ]
  },
  {
   "cell_type": "code",
   "execution_count": 16,
   "metadata": {
    "scrolled": true,
    "slideshow": {
     "slide_type": "skip"
    }
   },
   "outputs": [],
   "source": [
    "#5. Delete the value less than 1940 in member_birth_year and delete duration mins>180 mins.\n",
    "bike=bike.loc[(bike['member_birth_year']>=1940)&(bike['duration_mins']<=180)]"
   ]
  },
  {
   "cell_type": "code",
   "execution_count": 17,
   "metadata": {
    "scrolled": true,
    "slideshow": {
     "slide_type": "skip"
    }
   },
   "outputs": [
    {
     "data": {
      "text/html": [
       "<div>\n",
       "<style scoped>\n",
       "    .dataframe tbody tr th:only-of-type {\n",
       "        vertical-align: middle;\n",
       "    }\n",
       "\n",
       "    .dataframe tbody tr th {\n",
       "        vertical-align: top;\n",
       "    }\n",
       "\n",
       "    .dataframe thead th {\n",
       "        text-align: right;\n",
       "    }\n",
       "</style>\n",
       "<table border=\"1\" class=\"dataframe\">\n",
       "  <thead>\n",
       "    <tr style=\"text-align: right;\">\n",
       "      <th></th>\n",
       "      <th>start_station_id</th>\n",
       "      <th>start_station_latitude</th>\n",
       "      <th>start_station_longitude</th>\n",
       "      <th>end_station_id</th>\n",
       "      <th>end_station_latitude</th>\n",
       "      <th>end_station_longitude</th>\n",
       "      <th>bike_id</th>\n",
       "      <th>member_birth_year</th>\n",
       "      <th>duration_mins</th>\n",
       "    </tr>\n",
       "  </thead>\n",
       "  <tbody>\n",
       "    <tr>\n",
       "      <th>count</th>\n",
       "      <td>1.739999e+06</td>\n",
       "      <td>1.739999e+06</td>\n",
       "      <td>1.739999e+06</td>\n",
       "      <td>1.739999e+06</td>\n",
       "      <td>1.739999e+06</td>\n",
       "      <td>1.739999e+06</td>\n",
       "      <td>1.739999e+06</td>\n",
       "      <td>1.739999e+06</td>\n",
       "      <td>1.739999e+06</td>\n",
       "    </tr>\n",
       "    <tr>\n",
       "      <th>mean</th>\n",
       "      <td>1.119385e+02</td>\n",
       "      <td>3.776996e+01</td>\n",
       "      <td>-1.223548e+02</td>\n",
       "      <td>1.099850e+02</td>\n",
       "      <td>3.777006e+01</td>\n",
       "      <td>-1.223542e+02</td>\n",
       "      <td>2.075966e+03</td>\n",
       "      <td>1.982269e+03</td>\n",
       "      <td>1.115807e+01</td>\n",
       "    </tr>\n",
       "    <tr>\n",
       "      <th>std</th>\n",
       "      <td>9.496192e+01</td>\n",
       "      <td>9.646683e-02</td>\n",
       "      <td>1.148724e-01</td>\n",
       "      <td>9.469924e+01</td>\n",
       "      <td>9.632799e-02</td>\n",
       "      <td>1.143094e-01</td>\n",
       "      <td>1.177183e+03</td>\n",
       "      <td>1.021840e+01</td>\n",
       "      <td>1.129814e+01</td>\n",
       "    </tr>\n",
       "    <tr>\n",
       "      <th>min</th>\n",
       "      <td>3.000000e+00</td>\n",
       "      <td>3.726331e+01</td>\n",
       "      <td>-1.224737e+02</td>\n",
       "      <td>3.000000e+00</td>\n",
       "      <td>3.726331e+01</td>\n",
       "      <td>-1.224737e+02</td>\n",
       "      <td>1.000000e+01</td>\n",
       "      <td>1.940000e+03</td>\n",
       "      <td>1.000000e+00</td>\n",
       "    </tr>\n",
       "    <tr>\n",
       "      <th>25%</th>\n",
       "      <td>3.000000e+01</td>\n",
       "      <td>3.777166e+01</td>\n",
       "      <td>-1.224114e+02</td>\n",
       "      <td>3.000000e+01</td>\n",
       "      <td>3.777176e+01</td>\n",
       "      <td>-1.224094e+02</td>\n",
       "      <td>1.083000e+03</td>\n",
       "      <td>1.977000e+03</td>\n",
       "      <td>5.000000e+00</td>\n",
       "    </tr>\n",
       "    <tr>\n",
       "      <th>50%</th>\n",
       "      <td>8.100000e+01</td>\n",
       "      <td>3.778127e+01</td>\n",
       "      <td>-1.223974e+02</td>\n",
       "      <td>8.100000e+01</td>\n",
       "      <td>3.778175e+01</td>\n",
       "      <td>-1.223971e+02</td>\n",
       "      <td>2.121000e+03</td>\n",
       "      <td>1.985000e+03</td>\n",
       "      <td>9.000000e+00</td>\n",
       "    </tr>\n",
       "    <tr>\n",
       "      <th>75%</th>\n",
       "      <td>1.780000e+02</td>\n",
       "      <td>3.779539e+01</td>\n",
       "      <td>-1.222948e+02</td>\n",
       "      <td>1.760000e+02</td>\n",
       "      <td>3.779539e+01</td>\n",
       "      <td>-1.222948e+02</td>\n",
       "      <td>3.028000e+03</td>\n",
       "      <td>1.990000e+03</td>\n",
       "      <td>1.300000e+01</td>\n",
       "    </tr>\n",
       "    <tr>\n",
       "      <th>max</th>\n",
       "      <td>3.740000e+02</td>\n",
       "      <td>3.788022e+01</td>\n",
       "      <td>-1.218333e+02</td>\n",
       "      <td>3.740000e+02</td>\n",
       "      <td>3.788022e+01</td>\n",
       "      <td>-1.218333e+02</td>\n",
       "      <td>4.466000e+03</td>\n",
       "      <td>2.000000e+03</td>\n",
       "      <td>1.800000e+02</td>\n",
       "    </tr>\n",
       "  </tbody>\n",
       "</table>\n",
       "</div>"
      ],
      "text/plain": [
       "       start_station_id  start_station_latitude  start_station_longitude  \\\n",
       "count      1.739999e+06            1.739999e+06             1.739999e+06   \n",
       "mean       1.119385e+02            3.776996e+01            -1.223548e+02   \n",
       "std        9.496192e+01            9.646683e-02             1.148724e-01   \n",
       "min        3.000000e+00            3.726331e+01            -1.224737e+02   \n",
       "25%        3.000000e+01            3.777166e+01            -1.224114e+02   \n",
       "50%        8.100000e+01            3.778127e+01            -1.223974e+02   \n",
       "75%        1.780000e+02            3.779539e+01            -1.222948e+02   \n",
       "max        3.740000e+02            3.788022e+01            -1.218333e+02   \n",
       "\n",
       "       end_station_id  end_station_latitude  end_station_longitude  \\\n",
       "count    1.739999e+06          1.739999e+06           1.739999e+06   \n",
       "mean     1.099850e+02          3.777006e+01          -1.223542e+02   \n",
       "std      9.469924e+01          9.632799e-02           1.143094e-01   \n",
       "min      3.000000e+00          3.726331e+01          -1.224737e+02   \n",
       "25%      3.000000e+01          3.777176e+01          -1.224094e+02   \n",
       "50%      8.100000e+01          3.778175e+01          -1.223971e+02   \n",
       "75%      1.760000e+02          3.779539e+01          -1.222948e+02   \n",
       "max      3.740000e+02          3.788022e+01          -1.218333e+02   \n",
       "\n",
       "            bike_id  member_birth_year  duration_mins  \n",
       "count  1.739999e+06       1.739999e+06   1.739999e+06  \n",
       "mean   2.075966e+03       1.982269e+03   1.115807e+01  \n",
       "std    1.177183e+03       1.021840e+01   1.129814e+01  \n",
       "min    1.000000e+01       1.940000e+03   1.000000e+00  \n",
       "25%    1.083000e+03       1.977000e+03   5.000000e+00  \n",
       "50%    2.121000e+03       1.985000e+03   9.000000e+00  \n",
       "75%    3.028000e+03       1.990000e+03   1.300000e+01  \n",
       "max    4.466000e+03       2.000000e+03   1.800000e+02  "
      ]
     },
     "execution_count": 17,
     "metadata": {},
     "output_type": "execute_result"
    }
   ],
   "source": [
    "# Check the new descriptive statitics.\n",
    "bike.describe()"
   ]
  },
  {
   "cell_type": "code",
   "execution_count": 18,
   "metadata": {
    "slideshow": {
     "slide_type": "skip"
    }
   },
   "outputs": [],
   "source": [
    "#6. Conver the birth_year to Age.\n",
    "bike['member_age']=2018-bike['member_birth_year']\n",
    "bike.drop(['member_birth_year'], axis=1, inplace=True)"
   ]
  },
  {
   "cell_type": "code",
   "execution_count": 19,
   "metadata": {
    "slideshow": {
     "slide_type": "skip"
    }
   },
   "outputs": [
    {
     "data": {
      "text/plain": [
       "count    1.739999e+06\n",
       "mean     3.573128e+01\n",
       "std      1.021840e+01\n",
       "min      1.800000e+01\n",
       "25%      2.800000e+01\n",
       "50%      3.300000e+01\n",
       "75%      4.100000e+01\n",
       "max      7.800000e+01\n",
       "Name: member_age, dtype: float64"
      ]
     },
     "execution_count": 19,
     "metadata": {},
     "output_type": "execute_result"
    }
   ],
   "source": [
    "bike.member_age.describe()"
   ]
  },
  {
   "cell_type": "code",
   "execution_count": 20,
   "metadata": {
    "slideshow": {
     "slide_type": "skip"
    }
   },
   "outputs": [],
   "source": [
    "bins=[18,35,55,75]\n",
    "\n",
    "bike['age_group']=pd.cut(bike.member_age, bins, labels=['18~35','36~55','56~75'])"
   ]
  },
  {
   "cell_type": "code",
   "execution_count": 21,
   "metadata": {
    "slideshow": {
     "slide_type": "skip"
    }
   },
   "outputs": [
    {
     "data": {
      "text/html": [
       "<div>\n",
       "<style scoped>\n",
       "    .dataframe tbody tr th:only-of-type {\n",
       "        vertical-align: middle;\n",
       "    }\n",
       "\n",
       "    .dataframe tbody tr th {\n",
       "        vertical-align: top;\n",
       "    }\n",
       "\n",
       "    .dataframe thead th {\n",
       "        text-align: right;\n",
       "    }\n",
       "</style>\n",
       "<table border=\"1\" class=\"dataframe\">\n",
       "  <thead>\n",
       "    <tr style=\"text-align: right;\">\n",
       "      <th></th>\n",
       "      <th>start_time</th>\n",
       "      <th>end_time</th>\n",
       "      <th>start_station_id</th>\n",
       "      <th>start_station_name</th>\n",
       "      <th>start_station_latitude</th>\n",
       "      <th>start_station_longitude</th>\n",
       "      <th>end_station_id</th>\n",
       "      <th>end_station_name</th>\n",
       "      <th>end_station_latitude</th>\n",
       "      <th>end_station_longitude</th>\n",
       "      <th>bike_id</th>\n",
       "      <th>user_type</th>\n",
       "      <th>member_gender</th>\n",
       "      <th>duration_mins</th>\n",
       "      <th>member_age</th>\n",
       "      <th>age_group</th>\n",
       "    </tr>\n",
       "  </thead>\n",
       "  <tbody>\n",
       "    <tr>\n",
       "      <th>0</th>\n",
       "      <td>2018-02-28 23:59:47.097</td>\n",
       "      <td>2018-03-01 00:09:45.187</td>\n",
       "      <td>284.0</td>\n",
       "      <td>Yerba Buena Center for the Arts (Howard St at ...</td>\n",
       "      <td>37.784872</td>\n",
       "      <td>-122.400876</td>\n",
       "      <td>114.0</td>\n",
       "      <td>Rhode Island St at 17th St</td>\n",
       "      <td>37.764478</td>\n",
       "      <td>-122.402570</td>\n",
       "      <td>1035</td>\n",
       "      <td>Subscriber</td>\n",
       "      <td>Male</td>\n",
       "      <td>9</td>\n",
       "      <td>30.0</td>\n",
       "      <td>18~35</td>\n",
       "    </tr>\n",
       "    <tr>\n",
       "      <th>1</th>\n",
       "      <td>2018-02-28 23:21:16.495</td>\n",
       "      <td>2018-02-28 23:36:59.974</td>\n",
       "      <td>6.0</td>\n",
       "      <td>The Embarcadero at Sansome St</td>\n",
       "      <td>37.804770</td>\n",
       "      <td>-122.403234</td>\n",
       "      <td>324.0</td>\n",
       "      <td>Union Square (Powell St at Post St)</td>\n",
       "      <td>37.788300</td>\n",
       "      <td>-122.408531</td>\n",
       "      <td>1673</td>\n",
       "      <td>Customer</td>\n",
       "      <td>Male</td>\n",
       "      <td>15</td>\n",
       "      <td>31.0</td>\n",
       "      <td>18~35</td>\n",
       "    </tr>\n",
       "    <tr>\n",
       "      <th>4</th>\n",
       "      <td>2018-02-28 23:15:12.858</td>\n",
       "      <td>2018-02-28 23:29:58.608</td>\n",
       "      <td>308.0</td>\n",
       "      <td>San Pedro Square</td>\n",
       "      <td>37.336802</td>\n",
       "      <td>-121.894090</td>\n",
       "      <td>297.0</td>\n",
       "      <td>Locust St at Grant St</td>\n",
       "      <td>37.322980</td>\n",
       "      <td>-121.887931</td>\n",
       "      <td>1839</td>\n",
       "      <td>Subscriber</td>\n",
       "      <td>Female</td>\n",
       "      <td>14</td>\n",
       "      <td>42.0</td>\n",
       "      <td>36~55</td>\n",
       "    </tr>\n",
       "    <tr>\n",
       "      <th>5</th>\n",
       "      <td>2018-02-28 23:14:19.170</td>\n",
       "      <td>2018-02-28 23:29:40.437</td>\n",
       "      <td>312.0</td>\n",
       "      <td>San Jose Diridon Station</td>\n",
       "      <td>37.329732</td>\n",
       "      <td>-121.901782</td>\n",
       "      <td>288.0</td>\n",
       "      <td>Mission St at 1st St</td>\n",
       "      <td>37.350964</td>\n",
       "      <td>-121.902016</td>\n",
       "      <td>2656</td>\n",
       "      <td>Customer</td>\n",
       "      <td>Male</td>\n",
       "      <td>15</td>\n",
       "      <td>21.0</td>\n",
       "      <td>18~35</td>\n",
       "    </tr>\n",
       "    <tr>\n",
       "      <th>6</th>\n",
       "      <td>2018-02-28 23:21:49.274</td>\n",
       "      <td>2018-02-28 23:26:27.222</td>\n",
       "      <td>316.0</td>\n",
       "      <td>San Salvador St at 1st St</td>\n",
       "      <td>37.330165</td>\n",
       "      <td>-121.885831</td>\n",
       "      <td>310.0</td>\n",
       "      <td>San Fernando St at 4th St</td>\n",
       "      <td>37.335885</td>\n",
       "      <td>-121.885660</td>\n",
       "      <td>1616</td>\n",
       "      <td>Subscriber</td>\n",
       "      <td>Female</td>\n",
       "      <td>4</td>\n",
       "      <td>61.0</td>\n",
       "      <td>56~75</td>\n",
       "    </tr>\n",
       "  </tbody>\n",
       "</table>\n",
       "</div>"
      ],
      "text/plain": [
       "               start_time                end_time  start_station_id  \\\n",
       "0 2018-02-28 23:59:47.097 2018-03-01 00:09:45.187             284.0   \n",
       "1 2018-02-28 23:21:16.495 2018-02-28 23:36:59.974               6.0   \n",
       "4 2018-02-28 23:15:12.858 2018-02-28 23:29:58.608             308.0   \n",
       "5 2018-02-28 23:14:19.170 2018-02-28 23:29:40.437             312.0   \n",
       "6 2018-02-28 23:21:49.274 2018-02-28 23:26:27.222             316.0   \n",
       "\n",
       "                                  start_station_name  start_station_latitude  \\\n",
       "0  Yerba Buena Center for the Arts (Howard St at ...               37.784872   \n",
       "1                      The Embarcadero at Sansome St               37.804770   \n",
       "4                                   San Pedro Square               37.336802   \n",
       "5                           San Jose Diridon Station               37.329732   \n",
       "6                          San Salvador St at 1st St               37.330165   \n",
       "\n",
       "   start_station_longitude  end_station_id  \\\n",
       "0              -122.400876           114.0   \n",
       "1              -122.403234           324.0   \n",
       "4              -121.894090           297.0   \n",
       "5              -121.901782           288.0   \n",
       "6              -121.885831           310.0   \n",
       "\n",
       "                      end_station_name  end_station_latitude  \\\n",
       "0           Rhode Island St at 17th St             37.764478   \n",
       "1  Union Square (Powell St at Post St)             37.788300   \n",
       "4                Locust St at Grant St             37.322980   \n",
       "5                 Mission St at 1st St             37.350964   \n",
       "6            San Fernando St at 4th St             37.335885   \n",
       "\n",
       "   end_station_longitude  bike_id   user_type member_gender  duration_mins  \\\n",
       "0            -122.402570     1035  Subscriber          Male              9   \n",
       "1            -122.408531     1673    Customer          Male             15   \n",
       "4            -121.887931     1839  Subscriber        Female             14   \n",
       "5            -121.902016     2656    Customer          Male             15   \n",
       "6            -121.885660     1616  Subscriber        Female              4   \n",
       "\n",
       "   member_age age_group  \n",
       "0        30.0     18~35  \n",
       "1        31.0     18~35  \n",
       "4        42.0     36~55  \n",
       "5        21.0     18~35  \n",
       "6        61.0     56~75  "
      ]
     },
     "execution_count": 21,
     "metadata": {},
     "output_type": "execute_result"
    }
   ],
   "source": [
    "bike.head()"
   ]
  },
  {
   "cell_type": "code",
   "execution_count": 22,
   "metadata": {
    "slideshow": {
     "slide_type": "skip"
    }
   },
   "outputs": [],
   "source": [
    "# Save the clean dataset in to bike_new.csv\n",
    "bike.to_csv('bike_new.csv')"
   ]
  },
  {
   "cell_type": "markdown",
   "metadata": {
    "slideshow": {
     "slide_type": "slide"
    }
   },
   "source": [
    "## Data Visualization and Analysis <a name=\"v\"></a>"
   ]
  },
  {
   "cell_type": "code",
   "execution_count": 23,
   "metadata": {
    "slideshow": {
     "slide_type": "subslide"
    }
   },
   "outputs": [
    {
     "data": {
      "image/png": "[encoded data removed]",
      "text/plain": [
       "<Figure size 432x288 with 1 Axes>"
      ]
     },
     "metadata": {
      "needs_background": "light"
     },
     "output_type": "display_data"
    }
   ],
   "source": [
    "# User Information\n",
    "n_points=bike.shape[0]\n",
    "max_count=bike.member_gender.value_counts().max()\n",
    "max_prop=max_count/n_points\n",
    "\n",
    "# Generate tick mark locations and names\n",
    "tick_props=np.arange(0, max_prop, 0.2)\n",
    "tick_names=['{:0.2f}'.format(v) for v in tick_props]\n",
    "\n",
    "# create plot\n",
    "\n",
    "sns.countplot(data=bike, x='member_gender')\n",
    "plt.yticks(tick_props*n_points, tick_names)\n",
    "plt.ylabel('proportion')\n",
    "plt.xlabel('gender')\n",
    "plt.title('Proportion of each gender')\n",
    "\n",
    "\n",
    "# Add annotation\n",
    "gender_count=bike.member_gender.value_counts()\n",
    "locs, labels=plt.xticks()\n",
    "\n",
    "for loc, label in zip(locs, labels):\n",
    "    count = gender_count[label.get_text()] \n",
    "    pct_string = '{:0.1f}%'.format(100*count/n_points)\n",
    "\n",
    "    # print the annotation just below the top of the bar\n",
    "    plt.text(loc, count, pct_string, ha = 'center', color = 'black')"
   ]
  },
  {
   "cell_type": "markdown",
   "metadata": {
    "slideshow": {
     "slide_type": "skip"
    }
   },
   "source": [
    "74.2% of users are male and 24.3% of users are female, others only account for 1.5%."
   ]
  },
  {
   "cell_type": "code",
   "execution_count": 24,
   "metadata": {
    "slideshow": {
     "slide_type": "subslide"
    }
   },
   "outputs": [
    {
     "data": {
      "text/plain": [
       "Text(0.5, 1.0, 'gender vs. user type distribution')"
      ]
     },
     "execution_count": 24,
     "metadata": {},
     "output_type": "execute_result"
    },
    {
     "data": {
      "image/png": "[encoded data removed]",
      "text/plain": [
       "<Figure size 432x288 with 1 Axes>"
      ]
     },
     "metadata": {
      "needs_background": "light"
     },
     "output_type": "display_data"
    }
   ],
   "source": [
    "sns.countplot(data=bike, x='member_gender', hue='user_type')\n",
    "plt.title(\"gender vs. user type distribution\")"
   ]
  },
  {
   "cell_type": "markdown",
   "metadata": {
    "slideshow": {
     "slide_type": "skip"
    }
   },
   "source": [
    "Here, we can conclude in each gender, the subscriber take a big proportion, so we need to take more effort to the user experience for subscibers."
   ]
  },
  {
   "cell_type": "code",
   "execution_count": 25,
   "metadata": {
    "slideshow": {
     "slide_type": "subslide"
    }
   },
   "outputs": [
    {
     "data": {
      "text/plain": [
       "Text(0.5, 1.0, 'Frequency of durations')"
      ]
     },
     "execution_count": 25,
     "metadata": {},
     "output_type": "execute_result"
    },
    {
     "data": {
      "image/png": "[encoded data removed]",
      "text/plain": [
       "<Figure size 432x288 with 1 Axes>"
      ]
     },
     "metadata": {
      "needs_background": "light"
     },
     "output_type": "display_data"
    }
   ],
   "source": [
    "## 1. Check the distribution of duration minutes\n",
    "bins=np.arange(0, bike.duration_mins.max()+5, 5)\n",
    "\n",
    "plt.hist(bike.duration_mins, bins=bins)\n",
    "plt.xlim(0,100)\n",
    "plt.xlabel(\"Duration in minutes\")\n",
    "plt.title(\"Frequency of durations\")"
   ]
  },
  {
   "cell_type": "markdown",
   "metadata": {
    "slideshow": {
     "slide_type": "skip"
    }
   },
   "source": [
    "In this image, we can see that the duration of most users are less then 20 mins."
   ]
  },
  {
   "cell_type": "code",
   "execution_count": 26,
   "metadata": {
    "scrolled": true,
    "slideshow": {
     "slide_type": "subslide"
    }
   },
   "outputs": [
    {
     "data": {
      "text/plain": [
       "Text(0.5, 1.0, 'Boxplot for duration by user_type')"
      ]
     },
     "execution_count": 26,
     "metadata": {},
     "output_type": "execute_result"
    },
    {
     "data": {
      "image/png": "[encoded data removed]",
      "text/plain": [
       "<Figure size 432x288 with 1 Axes>"
      ]
     },
     "metadata": {
      "needs_background": "light"
     },
     "output_type": "display_data"
    }
   ],
   "source": [
    "## Duration for different user type\n",
    "sns.boxplot(data=bike, x='user_type',y='duration_mins')\n",
    "plt.title(\"Boxplot for duration by user_type\")"
   ]
  },
  {
   "cell_type": "code",
   "execution_count": 27,
   "metadata": {
    "slideshow": {
     "slide_type": "skip"
    }
   },
   "outputs": [
    {
     "data": {
      "text/plain": [
       "user_type\n",
       "Customer      14\n",
       "Subscriber     8\n",
       "Name: duration_mins, dtype: int64"
      ]
     },
     "execution_count": 27,
     "metadata": {},
     "output_type": "execute_result"
    }
   ],
   "source": [
    "bike.groupby(\"user_type\").duration_mins.median()"
   ]
  },
  {
   "cell_type": "markdown",
   "metadata": {
    "slideshow": {
     "slide_type": "skip"
    }
   },
   "source": [
    "The median duration of customer is 14 mins which is higher than median duration of subscriber which is 8 mins. "
   ]
  },
  {
   "cell_type": "code",
   "execution_count": 28,
   "metadata": {
    "slideshow": {
     "slide_type": "subslide"
    }
   },
   "outputs": [
    {
     "data": {
      "text/plain": [
       "Text(0.5, 1.0, 'Boxplot for duration by gender')"
      ]
     },
     "execution_count": 28,
     "metadata": {},
     "output_type": "execute_result"
    },
    {
     "data": {
      "image/png": "[encoded data removed]",
      "text/plain": [
       "<Figure size 432x288 with 1 Axes>"
      ]
     },
     "metadata": {
      "needs_background": "light"
     },
     "output_type": "display_data"
    }
   ],
   "source": [
    "# Check the duration for different gender\n",
    "sns.boxplot(data=bike, x='member_gender', y='duration_mins')\n",
    "plt.title(\"Boxplot for duration by gender\")"
   ]
  },
  {
   "cell_type": "code",
   "execution_count": 29,
   "metadata": {
    "slideshow": {
     "slide_type": "skip"
    }
   },
   "outputs": [
    {
     "data": {
      "text/plain": [
       "member_gender\n",
       "Female    10\n",
       "Male       8\n",
       "Other      9\n",
       "Name: duration_mins, dtype: int64"
      ]
     },
     "execution_count": 29,
     "metadata": {},
     "output_type": "execute_result"
    }
   ],
   "source": [
    "bike.groupby(\"member_gender\").duration_mins.median()"
   ]
  },
  {
   "cell_type": "markdown",
   "metadata": {
    "slideshow": {
     "slide_type": "skip"
    }
   },
   "source": [
    "In this image, we can see the median duration for female is higher than other genders."
   ]
  },
  {
   "cell_type": "code",
   "execution_count": 30,
   "metadata": {
    "slideshow": {
     "slide_type": "subslide"
    }
   },
   "outputs": [
    {
     "data": {
      "text/plain": [
       "<matplotlib.axes._subplots.AxesSubplot at 0x1a1ef41850>"
      ]
     },
     "execution_count": 30,
     "metadata": {},
     "output_type": "execute_result"
    },
    {
     "data": {
      "image/png": "[encoded data removed]",
      "text/plain": [
       "<Figure size 432x288 with 1 Axes>"
      ]
     },
     "metadata": {
      "needs_background": "light"
     },
     "output_type": "display_data"
    }
   ],
   "source": [
    "sns.countplot(bike.age_group)"
   ]
  },
  {
   "cell_type": "code",
   "execution_count": 31,
   "metadata": {
    "slideshow": {
     "slide_type": "subslide"
    }
   },
   "outputs": [
    {
     "data": {
      "text/plain": [
       "Text(0.5, 1.0, 'Bar chart of duration by age group')"
      ]
     },
     "execution_count": 31,
     "metadata": {},
     "output_type": "execute_result"
    },
    {
     "data": {
      "image/png": "[encoded data removed]",
      "text/plain": [
       "<Figure size 432x288 with 1 Axes>"
      ]
     },
     "metadata": {
      "needs_background": "light"
     },
     "output_type": "display_data"
    }
   ],
   "source": [
    "# Check the duration for different age group\n",
    "sns.barplot(data=bike, x='age_group', y='duration_mins')\n",
    "plt.title(\"Bar chart of duration by age group\")"
   ]
  },
  {
   "cell_type": "markdown",
   "metadata": {
    "slideshow": {
     "slide_type": "skip"
    }
   },
   "source": [
    "We can see that 56 ~ 75 age group has the higest duration, and then 18 ~ 35 group; 36 ~ 55 age group has the lowest average duration for each trip."
   ]
  },
  {
   "cell_type": "code",
   "execution_count": 32,
   "metadata": {
    "slideshow": {
     "slide_type": "subslide"
    }
   },
   "outputs": [
    {
     "data": {
      "text/plain": [
       "Text(0.5, 1.0, 'Start time in one day')"
      ]
     },
     "execution_count": 32,
     "metadata": {},
     "output_type": "execute_result"
    },
    {
     "data": {
      "image/png": "[encoded data removed]",
      "text/plain": [
       "<Figure size 432x288 with 1 Axes>"
      ]
     },
     "metadata": {
      "needs_background": "light"
     },
     "output_type": "display_data"
    }
   ],
   "source": [
    "# Check the peak time to use the bike.\n",
    "sns.countplot(bike.start_time.dt.hour, color='blue')\n",
    "plt.title(\"Start time in one day\")"
   ]
  },
  {
   "cell_type": "code",
   "execution_count": 33,
   "metadata": {
    "slideshow": {
     "slide_type": "subslide"
    }
   },
   "outputs": [
    {
     "data": {
      "text/plain": [
       "Text(0.5, 1.0, 'start time frequency in Day of week')"
      ]
     },
     "execution_count": 33,
     "metadata": {},
     "output_type": "execute_result"
    },
    {
     "data": {
      "image/png": "[encoded data removed]",
      "text/plain": [
       "<Figure size 432x288 with 1 Axes>"
      ]
     },
     "metadata": {
      "needs_background": "light"
     },
     "output_type": "display_data"
    }
   ],
   "source": [
    "# Check which day that the bikes get highest usage.\n",
    "sns.countplot(bike.start_time.dt.weekday, color='blue')\n",
    "\n",
    "#labels=['sun','mon','tue','wed','thu','fri','sat']\n",
    "plt.xticks(x=bike.start_time.dt.weekday)\n",
    "plt.title(\"start time frequency in Day of week\")"
   ]
  },
  {
   "cell_type": "markdown",
   "metadata": {
    "slideshow": {
     "slide_type": "skip"
    }
   },
   "source": [
    "From this image, we can see 7:00 ~ 9:00 and 16:00 ~ 18:00 are the peak time to use bike sharing, and it aligns with the morning rush hour so I can assume most frequent use cases is to commute. The bikes get the highest usage during weekday, which is again, prove that the most frequent use case is for people to commute."
   ]
  },
  {
   "cell_type": "code",
   "execution_count": 34,
   "metadata": {
    "scrolled": true,
    "slideshow": {
     "slide_type": "skip"
    }
   },
   "outputs": [],
   "source": [
    "#Visualization of start station and end station\n",
    "import folium\n",
    "\n",
    "# San Francisco latitude and longitude values\n",
    "latitude = 37.77\n",
    "longitude = -122.42\n",
    "\n",
    "# Create map and display it\n",
    "sf_map_1 = folium.Map(location=[latitude, longitude], zoom_start=12)\n",
    "sf_map_2 = folium.Map(location=[latitude, longitude], zoom_start=12)\n"
   ]
  },
  {
   "cell_type": "code",
   "execution_count": 35,
   "metadata": {
    "slideshow": {
     "slide_type": "skip"
    }
   },
   "outputs": [
    {
     "data": {
      "text/plain": [
       "<folium.plugins.heat_map.HeatMap at 0x1a1ef4b2d0>"
      ]
     },
     "execution_count": 35,
     "metadata": {},
     "output_type": "execute_result"
    }
   ],
   "source": [
    "from folium.plugins import HeatMap\n",
    "\n",
    "bike['count'] = 1\n",
    "data1=bike[['start_station_latitude', 'start_station_longitude', 'count']].groupby(['start_station_latitude', 'start_station_longitude']).sum().reset_index().values.tolist()\n",
    "\n",
    "HeatMap(data=data1, radius=6, gradient={.4:'blue',.65:\"lime\", 1:\"red\"},max_zoom=10).add_to(sf_map_1)\n",
    "\n"
   ]
  },
  {
   "cell_type": "code",
   "execution_count": 36,
   "metadata": {
    "slideshow": {
     "slide_type": "skip"
    }
   },
   "outputs": [
    {
     "data": {
      "text/plain": [
       "<folium.plugins.heat_map.HeatMap at 0x1a2e450950>"
      ]
     },
     "execution_count": 36,
     "metadata": {},
     "output_type": "execute_result"
    }
   ],
   "source": [
    "data2=bike[['end_station_latitude', 'end_station_longitude', 'count']].groupby(['end_station_latitude', 'end_station_longitude']).sum().reset_index().values.tolist()\n",
    "\n",
    "HeatMap(data=data2, radius=6, gradient={.4:'blue',.65:\"lime\", 1:\"red\"},max_zoom=10).add_to(sf_map_2)"
   ]
  },
  {
   "cell_type": "code",
   "execution_count": 37,
   "metadata": {
    "scrolled": true,
    "slideshow": {
     "slide_type": "subslide"
    }
   },
   "outputs": [
    {
     "data": {
      "text/html": [
       "<div style=\"width:100%;\"><div style=\"position:relative;width:100%;height:0;padding-bottom:60%;\"><span style=\"color:#565656\">Make this Notebook Trusted to load map: File -> Trust Notebook</span><iframe src=\"about:blank\" style=\"position:absolute;width:100%;height:100%;left:0;top:0;border:none !important;\" data-html=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 onload=\"this.contentDocument.open();this.contentDocument.write(atob(this.getAttribute('data-html')));this.contentDocument.close();\" allowfullscreen webkitallowfullscreen mozallowfullscreen></iframe></div></div>"
      ],
      "text/plain": [
       "<folium.folium.Map at 0x1a237b31d0>"
      ]
     },
     "execution_count": 37,
     "metadata": {},
     "output_type": "execute_result"
    }
   ],
   "source": [
    "sf_map_1"
   ]
  },
  {
   "cell_type": "code",
   "execution_count": 38,
   "metadata": {
    "slideshow": {
     "slide_type": "subslide"
    }
   },
   "outputs": [
    {
     "data": {
      "text/html": [
       "<div style=\"width:100%;\"><div style=\"position:relative;width:100%;height:0;padding-bottom:60%;\"><span style=\"color:#565656\">Make this Notebook Trusted to load map: File -> Trust Notebook</span><iframe src=\"about:blank\" style=\"position:absolute;width:100%;height:100%;left:0;top:0;border:none !important;\" data-html=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 onload=\"this.contentDocument.open();this.contentDocument.write(atob(this.getAttribute('data-html')));this.contentDocument.close();\" allowfullscreen webkitallowfullscreen mozallowfullscreen></iframe></div></div>"
      ],
      "text/plain": [
       "<folium.folium.Map at 0x1a2e616250>"
      ]
     },
     "execution_count": 38,
     "metadata": {},
     "output_type": "execute_result"
    }
   ],
   "source": [
    "sf_map_2"
   ]
  },
  {
   "cell_type": "markdown",
   "metadata": {
    "slideshow": {
     "slide_type": "skip"
    }
   },
   "source": [
    "In this heatmap, we can see that the trip start station are centrated on San Francisco, Oakland and San Jose. That makes sense since the density of office buildings in these 3 area is very high."
   ]
  }
 ],
 "metadata": {
  "celltoolbar": "Slideshow",
  "kernelspec": {
   "display_name": "Python 3",
   "language": "python",
   "name": "python3"
  },
  "language_info": {
   "codemirror_mode": {
    "name": "ipython",
    "version": 3
   },
   "file_extension": ".py",
   "mimetype": "text/x-python",
   "name": "python",
   "nbconvert_exporter": "python",
   "pygments_lexer": "ipython3",
   "version": "3.7.6"
  }
 },
 "nbformat": 4,
 "nbformat_minor": 4
}
